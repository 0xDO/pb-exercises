{
 "cells": [
  {
   "cell_type": "code",
   "execution_count": null,
   "metadata": {},
   "outputs": [],
   "source": [
    "# This is a Jupyter Notebook\n",
    "# You can write Python code here and it will execute\n",
    "\n",
    "# You can do the typical 'hello world' program like this:\n",
    "print('hello world')\n",
    "\n",
    "# You can execute by pressing shift-enter\n",
    "# Try it!\n",
    "\n",
    "# You can also click the Run button in the toolbar."
   ]
  },
  {
   "cell_type": "code",
   "execution_count": null,
   "metadata": {},
   "outputs": [],
   "source": [
    "# You can do a lot more than just print hello world\n",
    "# This is a fully functioning Python3 interpreter so you can write code here.\n",
    "\n",
    "def fib(n):\n",
    "    if n in (0,1):\n",
    "        return 1\n",
    "    else:\n",
    "        return fib(n-1) + fib(n-2)\n",
    "\n",
    "print(fib(10))\n",
    "\n",
    "# Try changing the number to something like 20\n",
    "# You can add caching if you want to practice coding in Python"
   ]
  },
  {
   "cell_type": "code",
   "execution_count": null,
   "metadata": {},
   "outputs": [],
   "source": [
    "# A few things you should remember in Python3\n",
    "\n",
    "# strings and bytes are now different\n",
    "\n",
    "s = 'hello world'\n",
    "b = b'hello world'\n",
    "\n",
    "# These may look the same but the 'b' prefix means that one is bytes\n",
    "# Basically, the on-disk characters on the system are bytes\n",
    "# and the actual symbols in unicode are strings\n",
    "# A good explanation of the difference is here: http://www.diveintopython3.net/strings.html\n",
    "\n",
    "print(s==b) # False\n",
    "\n",
    "# You convert from string to bytes this way:\n",
    "\n",
    "hello_world_bytes = s.encode('ascii')\n",
    "print(hello_world_bytes == b) # True\n",
    "\n",
    "# You convert from bytes to string this way:\n",
    "\n",
    "hello_world_string = b.decode('ascii')\n",
    "print(hello_world_string == s) # True"
   ]
  },
  {
   "cell_type": "code",
   "execution_count": null,
   "metadata": {},
   "outputs": [],
   "source": [
    "# We can also import local python files here\n",
    "\n",
    "from helper import bytes_to_str # This function is supposed to do the above\n",
    "\n",
    "print(bytes_to_str(b'hello')) # NotImplementedError\n"
   ]
  },
  {
   "cell_type": "code",
   "execution_count": null,
   "metadata": {},
   "outputs": [],
   "source": [
    "# Exercise 1\n",
    "\n",
    "# Make this test pass\n",
    "# helper.py:HelperTest:test_bytes\n",
    "\n",
    "# In order to do this, you'll have to open helper.py\n",
    "# and implement the bytes_to_str and str_to_bytes functions\n",
    "# Once you're done editing helper.py, you'll want to \n",
    "# restart the kernel (use the Kernel menu option or the refresh button in the toolbar)\n",
    "# run this again.\n",
    "# Try it now!\n",
    "\n",
    "from helper import HelperTest\n",
    "import unittest\n",
    "\n",
    "suite = unittest.TestLoader().loadTestsFromModule(HelperTest())\n",
    "unittest.TextTestRunner().run(suite)\n",
    "\n",
    "# If you had trouble with this, there's a complete directory that you can look at\n",
    "# Try not to use it until after you've attempted the problem."
   ]
  },
  {
   "cell_type": "code",
   "execution_count": null,
   "metadata": {},
   "outputs": [],
   "source": [
    "# Useful Python 3 Idioms\n",
    "\n",
    "# You can reverse a list by using [::-1]\n",
    "\n",
    "a = [1, 2, 3, 4, 5]\n",
    "print(a[::-1]) # [5, 4, 3, 2, 1]\n",
    "\n",
    "# Also works on both strings and bytes\n",
    "\n",
    "s = 'hello world'\n",
    "print(s[::-1]) # 'dlrow olleh'\n",
    "\n",
    "b = b'hello world'\n",
    "print(b[::-1]) # b'dlrow olleh'\n",
    "\n",
    "# Indexing bytes will get you the numerical value\n",
    "\n",
    "print(b'&'[0]) # 38 since & charcter #38\n",
    "\n",
    "# You can do the reverse by using bytes\n",
    "print(bytes([38])) # b'&'"
   ]
  },
  {
   "cell_type": "code",
   "execution_count": null,
   "metadata": {},
   "outputs": [],
   "source": [
    "# You can also import Python libraries\n",
    "\n",
    "from binascii import hexlify, unhexlify\n",
    "\n",
    "# hexlify takes raw binary data and shows it in hexadecimal\n",
    "print(hexlify(b'hello world'))\n",
    "\n",
    "# unhexlify does the opposite\n",
    "\n",
    "print(unhexlify('68656c6c6f20776f726c64'))"
   ]
  },
  {
   "cell_type": "code",
   "execution_count": null,
   "metadata": {},
   "outputs": [],
   "source": [
    "# Exercise 2\n",
    "\n",
    "# reverse this hex dump\n",
    "# b010a49c82b4bc84cc1dfd6e09b2b8114d016041efaf591eca88959e327dd29a\n",
    "\n",
    "# Hint: you'll want to turn this into binary data, reverse and turn it into hex again\n",
    "\n",
    "h = 'b010a49c82b4bc84cc1dfd6e09b2b8114d016041efaf591eca88959e327dd29a'"
   ]
  }
 ],
 "metadata": {
  "kernelspec": {
   "display_name": "Python 3",
   "language": "python",
   "name": "python3"
  },
  "language_info": {
   "codemirror_mode": {
    "name": "ipython",
    "version": 3
   },
   "file_extension": ".py",
   "mimetype": "text/x-python",
   "name": "python",
   "nbconvert_exporter": "python",
   "pygments_lexer": "ipython3",
   "version": "3.5.2"
  }
 },
 "nbformat": 4,
 "nbformat_minor": 2
}
