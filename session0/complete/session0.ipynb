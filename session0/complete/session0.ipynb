{
 "cells": [
  {
   "cell_type": "markdown",
   "metadata": {},
   "source": [
    "### This is a Jupyter Notebook\n",
    "You can write Python code and it will execute. You can write the typical 'hello world' program like this:\n",
    "\n",
    "```python\n",
    "print('hello world')\n",
    "```\n",
    "\n",
    "You can execute by pressing shift-enter. Try it! You can also click the Run button in the toolbar."
   ]
  },
  {
   "cell_type": "code",
   "execution_count": 1,
   "metadata": {},
   "outputs": [
    {
     "name": "stdout",
     "output_type": "stream",
     "text": [
      "hello world\n"
     ]
    }
   ],
   "source": [
    "print('hello world')"
   ]
  },
  {
   "cell_type": "markdown",
   "metadata": {},
   "source": [
    "### You can do a lot more than just print hello world\n",
    "\n",
    "This is a fully functioning Python3 interpreter so you can write functions and objects like in the next box.\n",
    "\n",
    "Try printing the 21st Fibonacci number below instead of the 11th. You can add caching if you want to practice coding in Python."
   ]
  },
  {
   "cell_type": "code",
   "execution_count": 2,
   "metadata": {},
   "outputs": [
    {
     "name": "stdout",
     "output_type": "stream",
     "text": [
      "89\n"
     ]
    }
   ],
   "source": [
    "def fib(n):\n",
    "    if n in (0,1):\n",
    "        return 1\n",
    "    else:\n",
    "        return fib(n-1) + fib(n-2)\n",
    "\n",
    "print(fib(10))"
   ]
  },
  {
   "cell_type": "markdown",
   "metadata": {},
   "source": [
    "### A few things you should remember in Python3\n",
    "\n",
    "Strings and bytes are now different\n",
    "\n",
    "```python\n",
    "s = 'hello world'\n",
    "b = b'hello world'\n",
    "```\n",
    "\n",
    "These may look the same but the 'b' prefix means that one is bytes\n",
    "Basically, the on-disk characters on the system are bytes\n",
    "and the actual symbols in unicode are strings\n",
    "A good explanation of the difference is [here](http://www.diveintopython3.net/strings.html)."
   ]
  },
  {
   "cell_type": "code",
   "execution_count": 3,
   "metadata": {},
   "outputs": [
    {
     "name": "stdout",
     "output_type": "stream",
     "text": [
      "False\n",
      "True\n",
      "True\n"
     ]
    }
   ],
   "source": [
    "s = 'hello world'\n",
    "b = b'hello world'\n",
    "\n",
    "print(s==b) # False\n",
    "\n",
    "# You convert from string to bytes this way:\n",
    "\n",
    "hello_world_bytes = s.encode('ascii')\n",
    "print(hello_world_bytes == b) # True\n",
    "\n",
    "# You convert from bytes to string this way:\n",
    "\n",
    "hello_world_string = b.decode('ascii')\n",
    "print(hello_world_string == s) # True"
   ]
  },
  {
   "cell_type": "markdown",
   "metadata": {},
   "source": [
    "### Imports\n",
    "\n",
    "You already have unit tests that are written for you.\n",
    "Your task is to make them pass.\n",
    "We can import various modules to make our experience using Jupyter more pleasant.\n",
    "This way, making everything work will be a lot easier."
   ]
  },
  {
   "cell_type": "code",
   "execution_count": 4,
   "metadata": {},
   "outputs": [],
   "source": [
    "# import everything and define a test runner function\n",
    "import unittest\n",
    "import importlib\n",
    "\n",
    "import helper\n",
    "\n",
    "def run_test(test):\n",
    "    unittest.TextTestRunner().run(unittest.TestLoader().loadTestsFromTestCase(test))"
   ]
  },
  {
   "cell_type": "markdown",
   "metadata": {},
   "source": [
    "### Exercise 1\n",
    "\n",
    "Make this test pass: `helper.py:HelperTest:test_bytes`\n",
    "\n",
    "In order to do this, you'll have to open helper.py and implement the bytes_to_str and str_to_bytes functions. Once you're done editing helper.py, run this again. Try it now!"
   ]
  },
  {
   "cell_type": "code",
   "execution_count": 5,
   "metadata": {},
   "outputs": [
    {
     "name": "stderr",
     "output_type": "stream",
     "text": [
      ".\n",
      "----------------------------------------------------------------------\n",
      "Ran 1 test in 0.001s\n",
      "\n",
      "OK\n"
     ]
    }
   ],
   "source": [
    "importlib.reload(helper)\n",
    "\n",
    "run_test(helper.HelperTest)"
   ]
  },
  {
   "cell_type": "markdown",
   "metadata": {},
   "source": [
    "### Getting Help\n",
    "\n",
    "If you can't get this, there's a `complete` directory that has the `helper.py` file and the `session0.ipynb` file which you can use to get the answers."
   ]
  },
  {
   "cell_type": "markdown",
   "metadata": {},
   "source": [
    "### Useful Python 3 Idioms\n",
    "\n",
    "You can reverse a list by using `[::-1]`:\n",
    "\n",
    "```python\n",
    "a = [1, 2, 3, 4, 5]\n",
    "print(a[::-1]) # [5, 4, 3, 2, 1]\n",
    "```\n",
    "\n",
    "Also works on both strings and bytes:\n",
    "\n",
    "```python\n",
    "s = 'hello world'\n",
    "print(s[::-1]) # 'dlrow olleh'\n",
    "b = b'hello world'\n",
    "print(b[::-1]) # b'dlrow olleh'\n",
    "```\n",
    "\n",
    "Indexing bytes will get you the numerical value:\n",
    "\n",
    "```python\n",
    "print(b'&'[0]) # 38 since & charcter #38\n",
    "```\n",
    "\n",
    "You can do the reverse by using bytes:\n",
    "\n",
    "```python\n",
    "print(bytes([38])) # b'&'\n",
    "```"
   ]
  },
  {
   "cell_type": "code",
   "execution_count": 6,
   "metadata": {},
   "outputs": [
    {
     "name": "stdout",
     "output_type": "stream",
     "text": [
      "[5, 4, 3, 2, 1]\n",
      "dlrow olleh\n",
      "b'dlrow olleh'\n",
      "38\n",
      "b'&'\n"
     ]
    }
   ],
   "source": [
    "a = [1, 2, 3, 4, 5]\n",
    "print(a[::-1]) # [5, 4, 3, 2, 1]\n",
    "\n",
    "s = 'hello world'\n",
    "print(s[::-1]) # 'dlrow olleh'\n",
    "b = b'hello world'\n",
    "print(b[::-1]) # b'dlrow olleh'\n",
    "\n",
    "print(b'&'[0]) # 38 since & charcter #38\n",
    "\n",
    "print(bytes([38])) # b'&'"
   ]
  },
  {
   "cell_type": "markdown",
   "metadata": {},
   "source": [
    "### Python Libraries\n",
    "\n",
    "`binascii` is what we use to convert binary to/from hex like so:"
   ]
  },
  {
   "cell_type": "code",
   "execution_count": 7,
   "metadata": {},
   "outputs": [
    {
     "name": "stdout",
     "output_type": "stream",
     "text": [
      "b'68656c6c6f20776f726c64'\n",
      "b'hello world'\n"
     ]
    }
   ],
   "source": [
    "from binascii import hexlify, unhexlify\n",
    "\n",
    "print(hexlify(b'hello world'))\n",
    "print(unhexlify('68656c6c6f20776f726c64'))"
   ]
  },
  {
   "cell_type": "markdown",
   "metadata": {},
   "source": [
    "### Exercise 2\n",
    "\n",
    "Reverse this hex dump: `b010a49c82b4bc84cc1dfd6e09b2b8114d016041efaf591eca88959e327dd29a`\n",
    "\n",
    "Hint: you'll want to turn this into binary data, reverse and turn it into hex again"
   ]
  },
  {
   "cell_type": "code",
   "execution_count": 8,
   "metadata": {},
   "outputs": [
    {
     "name": "stdout",
     "output_type": "stream",
     "text": [
      "9ad27d329e9588ca1e59afef4160014d11b8b2096efd1dcc84bcb4829ca410b0\n"
     ]
    }
   ],
   "source": [
    "h = 'b010a49c82b4bc84cc1dfd6e09b2b8114d016041efaf591eca88959e327dd29a'\n",
    "\n",
    "b = unhexlify(h)\n",
    "b_rev = b[::-1]\n",
    "h_rev = hexlify(b_rev)\n",
    "\n",
    "print(helper.bytes_to_str(h_rev))"
   ]
  }
 ],
 "metadata": {
  "kernelspec": {
   "display_name": "Python 3",
   "language": "python",
   "name": "python3"
  },
  "language_info": {
   "codemirror_mode": {
    "name": "ipython",
    "version": 3
   },
   "file_extension": ".py",
   "mimetype": "text/x-python",
   "name": "python",
   "nbconvert_exporter": "python",
   "pygments_lexer": "ipython3",
   "version": "3.5.2"
  }
 },
 "nbformat": 4,
 "nbformat_minor": 2
}
