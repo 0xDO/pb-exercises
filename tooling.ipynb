{
 "cells": [
  {
   "cell_type": "code",
   "execution_count": 2,
   "metadata": {},
   "outputs": [],
   "source": [
    "# import everything and define a test runner function\n",
    "from importlib import reload\n",
    "from helper import run_test\n",
    "\n",
    "import block\n",
    "import ecc\n",
    "import helper\n",
    "import network\n",
    "import script\n",
    "import tx"
   ]
  },
  {
   "cell_type": "code",
   "execution_count": 3,
   "metadata": {},
   "outputs": [
    {
     "ename": "RuntimeError",
     "evalue": "not valid WIF",
     "output_type": "error",
     "traceback": [
      "\u001b[0;31m---------------------------------------------------------------------------\u001b[0m",
      "\u001b[0;31mRuntimeError\u001b[0m                              Traceback (most recent call last)",
      "\u001b[0;32m<ipython-input-3-fd094a066f3e>\u001b[0m in \u001b[0;36m<module>\u001b[0;34m()\u001b[0m\n\u001b[1;32m     12\u001b[0m \u001b[0mprev_value\u001b[0m \u001b[0;34m=\u001b[0m \u001b[0;36m100000000\u001b[0m\u001b[0;34m\u001b[0m\u001b[0m\n\u001b[1;32m     13\u001b[0m \u001b[0mfee\u001b[0m \u001b[0;34m=\u001b[0m \u001b[0;36m540\u001b[0m\u001b[0;34m\u001b[0m\u001b[0m\n\u001b[0;32m---> 14\u001b[0;31m \u001b[0mpriv\u001b[0m \u001b[0;34m=\u001b[0m \u001b[0mPrivateKey\u001b[0m\u001b[0;34m.\u001b[0m\u001b[0mparse\u001b[0m\u001b[0;34m(\u001b[0m\u001b[0mwif\u001b[0m\u001b[0;34m)\u001b[0m\u001b[0;34m\u001b[0m\u001b[0m\n\u001b[0m\u001b[1;32m     15\u001b[0m \u001b[0mprev_script_pubkey\u001b[0m \u001b[0;34m=\u001b[0m \u001b[0mp2pkh_script\u001b[0m\u001b[0;34m(\u001b[0m\u001b[0mdecode_base58\u001b[0m\u001b[0;34m(\u001b[0m\u001b[0mpriv\u001b[0m\u001b[0;34m.\u001b[0m\u001b[0mpoint\u001b[0m\u001b[0;34m.\u001b[0m\u001b[0maddress\u001b[0m\u001b[0;34m(\u001b[0m\u001b[0mcompressed\u001b[0m\u001b[0;34m=\u001b[0m\u001b[0mcompressed\u001b[0m\u001b[0;34m)\u001b[0m\u001b[0;34m)\u001b[0m\u001b[0;34m)\u001b[0m\u001b[0;34m\u001b[0m\u001b[0m\n\u001b[1;32m     16\u001b[0m \u001b[0mtx_in\u001b[0m \u001b[0;34m=\u001b[0m \u001b[0mTxIn\u001b[0m\u001b[0;34m(\u001b[0m\u001b[0mprev_tx\u001b[0m\u001b[0;34m,\u001b[0m \u001b[0mprev_index\u001b[0m\u001b[0;34m,\u001b[0m \u001b[0;34mb''\u001b[0m\u001b[0;34m,\u001b[0m \u001b[0;36m0xffffffff\u001b[0m\u001b[0;34m,\u001b[0m \u001b[0mprev_value\u001b[0m\u001b[0;34m,\u001b[0m \u001b[0mprev_script_pubkey\u001b[0m\u001b[0;34m)\u001b[0m\u001b[0;34m\u001b[0m\u001b[0m\n",
      "\u001b[0;32m~/pb-exercises/ecc.py\u001b[0m in \u001b[0;36mparse\u001b[0;34m(cls, wif)\u001b[0m\n\u001b[1;32m    716\u001b[0m             \u001b[0msecret_bytes\u001b[0m \u001b[0;34m=\u001b[0m \u001b[0msecret_bytes\u001b[0m\u001b[0;34m[\u001b[0m\u001b[0;36m1\u001b[0m\u001b[0;34m:\u001b[0m\u001b[0;34m]\u001b[0m\u001b[0;34m\u001b[0m\u001b[0m\n\u001b[1;32m    717\u001b[0m         \u001b[0;32melse\u001b[0m\u001b[0;34m:\u001b[0m\u001b[0;34m\u001b[0m\u001b[0m\n\u001b[0;32m--> 718\u001b[0;31m             \u001b[0;32mraise\u001b[0m \u001b[0mRuntimeError\u001b[0m\u001b[0;34m(\u001b[0m\u001b[0;34m'not valid WIF'\u001b[0m\u001b[0;34m)\u001b[0m\u001b[0;34m\u001b[0m\u001b[0m\n\u001b[0m\u001b[1;32m    719\u001b[0m         \u001b[0;32mreturn\u001b[0m \u001b[0mcls\u001b[0m\u001b[0;34m(\u001b[0m\u001b[0mint\u001b[0m\u001b[0;34m.\u001b[0m\u001b[0mfrom_bytes\u001b[0m\u001b[0;34m(\u001b[0m\u001b[0msecret_bytes\u001b[0m\u001b[0;34m,\u001b[0m \u001b[0;34m'big'\u001b[0m\u001b[0;34m)\u001b[0m\u001b[0;34m)\u001b[0m\u001b[0;34m\u001b[0m\u001b[0m\n\u001b[1;32m    720\u001b[0m \u001b[0;34m\u001b[0m\u001b[0m\n",
      "\u001b[0;31mRuntimeError\u001b[0m: not valid WIF"
     ]
    }
   ],
   "source": [
    "wif = ''\n",
    "compressed=False\n",
    "\n",
    "from ecc import PrivateKey\n",
    "from tx import TxIn, TxOut, Tx\n",
    "from helper import decode_base58, p2pkh_script\n",
    "from binascii import unhexlify, hexlify\n",
    "\n",
    "\n",
    "prev_tx = unhexlify('')\n",
    "prev_index = 1\n",
    "prev_value = 100000000\n",
    "fee = 540\n",
    "priv = PrivateKey.parse(wif)\n",
    "prev_script_pubkey = p2pkh_script(decode_base58(priv.point.address(compressed=compressed)))\n",
    "tx_in = TxIn(prev_tx, prev_index, b'', 0xffffffff, prev_value, prev_script_pubkey)\n",
    "destination = '' # 'mzx5YhAH9kNHtcN481u6WkjeHjYtVeKVh2' # 'n2Rjcaqi5igtVm4w5q3nsBUVWYZAqgvc3x'\n",
    "h160 = decode_base58(destination)\n",
    "script_pubkey = p2pkh_script(h160)\n",
    "tx_out_destination = TxOut(prev_value-fee, script_pubkey)\n",
    "t = Tx(1, [tx_in], [tx_out_destination], 0)\n",
    "t.sign_input(0, priv, 0x40|1, compressed=compressed)\n",
    "print(hexlify(t.serialize()))\n",
    "\n",
    "# send at: https://pool.viabtc.com/tools/BCH/broadcast/\n",
    "# or: https://bcc.blockdozer.com/insight/tx/send"
   ]
  },
  {
   "cell_type": "code",
   "execution_count": 2,
   "metadata": {},
   "outputs": [
    {
     "ename": "RuntimeError",
     "evalue": "not valid WIF",
     "output_type": "error",
     "traceback": [
      "\u001b[0;31m---------------------------------------------------------------------------\u001b[0m",
      "\u001b[0;31mRuntimeError\u001b[0m                              Traceback (most recent call last)",
      "\u001b[0;32m<ipython-input-2-4349ec410452>\u001b[0m in \u001b[0;36m<module>\u001b[0;34m()\u001b[0m\n\u001b[1;32m     12\u001b[0m \u001b[0mprev_value\u001b[0m \u001b[0;34m=\u001b[0m \u001b[0;36m100000000\u001b[0m\u001b[0;34m\u001b[0m\u001b[0m\n\u001b[1;32m     13\u001b[0m \u001b[0mfee\u001b[0m \u001b[0;34m=\u001b[0m \u001b[0;36m540\u001b[0m\u001b[0;34m\u001b[0m\u001b[0m\n\u001b[0;32m---> 14\u001b[0;31m \u001b[0mpriv\u001b[0m \u001b[0;34m=\u001b[0m \u001b[0mPrivateKey\u001b[0m\u001b[0;34m.\u001b[0m\u001b[0mparse\u001b[0m\u001b[0;34m(\u001b[0m\u001b[0mwif\u001b[0m\u001b[0;34m)\u001b[0m\u001b[0;34m\u001b[0m\u001b[0m\n\u001b[0m\u001b[1;32m     15\u001b[0m \u001b[0mprev_script_pubkey\u001b[0m \u001b[0;34m=\u001b[0m \u001b[0mp2pkh_script\u001b[0m\u001b[0;34m(\u001b[0m\u001b[0mdecode_base58\u001b[0m\u001b[0;34m(\u001b[0m\u001b[0mpriv\u001b[0m\u001b[0;34m.\u001b[0m\u001b[0mpoint\u001b[0m\u001b[0;34m.\u001b[0m\u001b[0maddress\u001b[0m\u001b[0;34m(\u001b[0m\u001b[0mcompressed\u001b[0m\u001b[0;34m=\u001b[0m\u001b[0mcompressed\u001b[0m\u001b[0;34m)\u001b[0m\u001b[0;34m)\u001b[0m\u001b[0;34m)\u001b[0m\u001b[0;34m\u001b[0m\u001b[0m\n\u001b[1;32m     16\u001b[0m \u001b[0mtx_in\u001b[0m \u001b[0;34m=\u001b[0m \u001b[0mTxIn\u001b[0m\u001b[0;34m(\u001b[0m\u001b[0mprev_tx\u001b[0m\u001b[0;34m,\u001b[0m \u001b[0mprev_index\u001b[0m\u001b[0;34m,\u001b[0m \u001b[0;34mb''\u001b[0m\u001b[0;34m,\u001b[0m \u001b[0;36m0xffffffff\u001b[0m\u001b[0;34m,\u001b[0m \u001b[0mprev_value\u001b[0m\u001b[0;34m,\u001b[0m \u001b[0mprev_script_pubkey\u001b[0m\u001b[0;34m)\u001b[0m\u001b[0;34m\u001b[0m\u001b[0m\n",
      "\u001b[0;32m~/pb-exercises/ecc.py\u001b[0m in \u001b[0;36mparse\u001b[0;34m(cls, wif)\u001b[0m\n\u001b[1;32m    716\u001b[0m             \u001b[0msecret_bytes\u001b[0m \u001b[0;34m=\u001b[0m \u001b[0msecret_bytes\u001b[0m\u001b[0;34m[\u001b[0m\u001b[0;36m1\u001b[0m\u001b[0;34m:\u001b[0m\u001b[0;34m]\u001b[0m\u001b[0;34m\u001b[0m\u001b[0m\n\u001b[1;32m    717\u001b[0m         \u001b[0;32melse\u001b[0m\u001b[0;34m:\u001b[0m\u001b[0;34m\u001b[0m\u001b[0m\n\u001b[0;32m--> 718\u001b[0;31m             \u001b[0;32mraise\u001b[0m \u001b[0mRuntimeError\u001b[0m\u001b[0;34m(\u001b[0m\u001b[0;34m'not valid WIF'\u001b[0m\u001b[0;34m)\u001b[0m\u001b[0;34m\u001b[0m\u001b[0m\n\u001b[0m\u001b[1;32m    719\u001b[0m         \u001b[0;32mreturn\u001b[0m \u001b[0mcls\u001b[0m\u001b[0;34m(\u001b[0m\u001b[0mint\u001b[0m\u001b[0;34m.\u001b[0m\u001b[0mfrom_bytes\u001b[0m\u001b[0;34m(\u001b[0m\u001b[0msecret_bytes\u001b[0m\u001b[0;34m,\u001b[0m \u001b[0;34m'big'\u001b[0m\u001b[0;34m)\u001b[0m\u001b[0;34m)\u001b[0m\u001b[0;34m\u001b[0m\u001b[0m\n\u001b[1;32m    720\u001b[0m \u001b[0;34m\u001b[0m\u001b[0m\n",
      "\u001b[0;31mRuntimeError\u001b[0m: not valid WIF"
     ]
    }
   ],
   "source": [
    "wif = ''\n",
    "compressed=False\n",
    "\n",
    "from ecc import PrivateKey\n",
    "from tx import TxIn, TxOut, Tx\n",
    "from helper import decode_base58, p2pkh_script\n",
    "from binascii import unhexlify, hexlify\n",
    "\n",
    "\n",
    "prev_tx = unhexlify('')\n",
    "prev_index = 1\n",
    "prev_value = 100000000\n",
    "fee = 540\n",
    "priv = PrivateKey.parse(wif)\n",
    "prev_script_pubkey = p2pkh_script(decode_base58(priv.point.address(compressed=compressed)))\n",
    "tx_in = TxIn(prev_tx, prev_index, b'', 0xffffffff, prev_value, prev_script_pubkey)\n",
    "destination = '' # 'mzx5YhAH9kNHtcN481u6WkjeHjYtVeKVh2' # 'n2Rjcaqi5igtVm4w5q3nsBUVWYZAqgvc3x'\n",
    "h160 = decode_base58(destination)\n",
    "script_pubkey = p2pkh_script(h160)\n",
    "tx_out_destination = TxOut(prev_value-fee, script_pubkey)\n",
    "t = Tx(1, [tx_in], [tx_out_destination], 0)\n",
    "t.sign_input(0, priv, 0x40|1, compressed=compressed, fork_id=20224)\n",
    "print(hexlify(t.serialize()))\n",
    "\n",
    "# broadcast here: https://btgexplorer.com/tx/send"
   ]
  },
  {
   "cell_type": "code",
   "execution_count": 13,
   "metadata": {},
   "outputs": [
    {
     "name": "stdout",
     "output_type": "stream",
     "text": [
      "GHqvR8KwyrcJ5UJHvwf7RmLtvAnr5uTHdV\n"
     ]
    }
   ],
   "source": [
    "from helper import decode_base58, p2pkh_script, encode_base58_checksum\n",
    "\n",
    "h160 = decode_base58('')\n",
    "r = b'\\x26' +h160\n",
    "print(encode_base58_checksum(r))"
   ]
  },
  {
   "cell_type": "code",
   "execution_count": 14,
   "metadata": {},
   "outputs": [
    {
     "ename": "RuntimeError",
     "evalue": "not valid WIF",
     "output_type": "error",
     "traceback": [
      "\u001b[0;31m---------------------------------------------------------------------------\u001b[0m",
      "\u001b[0;31mRuntimeError\u001b[0m                              Traceback (most recent call last)",
      "\u001b[0;32m<ipython-input-14-c89b6d74971b>\u001b[0m in \u001b[0;36m<module>\u001b[0;34m()\u001b[0m\n\u001b[1;32m     14\u001b[0m \u001b[0;34m\u001b[0m\u001b[0m\n\u001b[1;32m     15\u001b[0m \u001b[0mwif\u001b[0m \u001b[0;34m=\u001b[0m \u001b[0;34m''\u001b[0m \u001b[0;31m# FILL THIS IN\u001b[0m\u001b[0;34m\u001b[0m\u001b[0m\n\u001b[0;32m---> 16\u001b[0;31m \u001b[0mpriv\u001b[0m \u001b[0;34m=\u001b[0m \u001b[0mPrivateKey\u001b[0m\u001b[0;34m.\u001b[0m\u001b[0mparse\u001b[0m\u001b[0;34m(\u001b[0m\u001b[0mwif\u001b[0m\u001b[0;34m)\u001b[0m\u001b[0;34m\u001b[0m\u001b[0m\n\u001b[0m\u001b[1;32m     17\u001b[0m \u001b[0mdestination\u001b[0m \u001b[0;34m=\u001b[0m \u001b[0;34m''\u001b[0m \u001b[0;31m# FILL THIS IN\u001b[0m\u001b[0;34m\u001b[0m\u001b[0m\n\u001b[1;32m     18\u001b[0m \u001b[0;32mif\u001b[0m \u001b[0mdestination\u001b[0m \u001b[0;34m==\u001b[0m \u001b[0;34m''\u001b[0m\u001b[0;34m:\u001b[0m\u001b[0;34m\u001b[0m\u001b[0m\n",
      "\u001b[0;32m~/pb-exercises/ecc.py\u001b[0m in \u001b[0;36mparse\u001b[0;34m(cls, wif)\u001b[0m\n\u001b[1;32m    716\u001b[0m             \u001b[0msecret_bytes\u001b[0m \u001b[0;34m=\u001b[0m \u001b[0msecret_bytes\u001b[0m\u001b[0;34m[\u001b[0m\u001b[0;36m1\u001b[0m\u001b[0;34m:\u001b[0m\u001b[0;34m]\u001b[0m\u001b[0;34m\u001b[0m\u001b[0m\n\u001b[1;32m    717\u001b[0m         \u001b[0;32melse\u001b[0m\u001b[0;34m:\u001b[0m\u001b[0;34m\u001b[0m\u001b[0m\n\u001b[0;32m--> 718\u001b[0;31m             \u001b[0;32mraise\u001b[0m \u001b[0mRuntimeError\u001b[0m\u001b[0;34m(\u001b[0m\u001b[0;34m'not valid WIF'\u001b[0m\u001b[0;34m)\u001b[0m\u001b[0;34m\u001b[0m\u001b[0m\n\u001b[0m\u001b[1;32m    719\u001b[0m         \u001b[0;32mreturn\u001b[0m \u001b[0mcls\u001b[0m\u001b[0;34m(\u001b[0m\u001b[0mint\u001b[0m\u001b[0;34m.\u001b[0m\u001b[0mfrom_bytes\u001b[0m\u001b[0;34m(\u001b[0m\u001b[0msecret_bytes\u001b[0m\u001b[0;34m,\u001b[0m \u001b[0;34m'big'\u001b[0m\u001b[0;34m)\u001b[0m\u001b[0;34m)\u001b[0m\u001b[0;34m\u001b[0m\u001b[0m\n\u001b[1;32m    720\u001b[0m \u001b[0;34m\u001b[0m\u001b[0m\n",
      "\u001b[0;31mRuntimeError\u001b[0m: not valid WIF"
     ]
    }
   ],
   "source": [
    "#use https://bcc.blockdozer.com/insight/addr/[addr]/utxo or https://btgexplorer.com/api/addr/[btg addr]/utxo\n",
    "data = [] # FILL THIS IN\n",
    "total = 0\n",
    "fee = 5400\n",
    "fork_id = 0\n",
    "compressed = False\n",
    "tx_ins = []\n",
    "for utxo in data:\n",
    "    prev_tx = unhexlify(utxo['txid'])\n",
    "    prev_index = utxo['vout']\n",
    "    prev_value = utxo['satoshis']\n",
    "    script_pubkey = unhexlify(utxo['scriptPubKey'])\n",
    "    total += prev_value\n",
    "    tx_ins.append(TxIn(prev_tx, prev_index, b'', 0xffffffff, prev_value, script_pubkey))\n",
    "\n",
    "wif = '' # FILL THIS IN\n",
    "priv = PrivateKey.parse(wif)\n",
    "destination = '' # FILL THIS IN\n",
    "if destination == '':\n",
    "    raise RuntimeError\n",
    "h160 = decode_base58(destination)\n",
    "script_pubkey = p2pkh_script(h160)\n",
    "tx_out_destination = TxOut(total-fee, script_pubkey)\n",
    "t = Tx(1, tx_ins, [tx_out_destination], 0)\n",
    "t.sign(priv, compressed=compressed, fork_id=fork_id)\n",
    "print(hexlify(t.serialize()))\n"
   ]
  },
  {
   "cell_type": "code",
   "execution_count": 16,
   "metadata": {},
   "outputs": [
    {
     "data": {
      "text/plain": [
       "b'9669ffa482594faf9e8f5aaf696aea5dda0dcd2a1ea912a01ee1d06fc5ea078b'"
      ]
     },
     "execution_count": 16,
     "metadata": {},
     "output_type": "execute_result"
    }
   ],
   "source": [
    "from binascii import hexlify, unhexlify\n",
    "\n",
    "hexlify(unhexlify('8b07eac56fd0e11ea012a91e2acd0dda5dea6a69af5a8f9eaf4f5982a4ff6996')[::-1])"
   ]
  },
  {
   "cell_type": "code",
   "execution_count": null,
   "metadata": {},
   "outputs": [],
   "source": []
  }
 ],
 "metadata": {
  "kernelspec": {
   "display_name": "Python 3",
   "language": "python",
   "name": "python3"
  },
  "language_info": {
   "codemirror_mode": {
    "name": "ipython",
    "version": 3
   },
   "file_extension": ".py",
   "mimetype": "text/x-python",
   "name": "python",
   "nbconvert_exporter": "python",
   "pygments_lexer": "ipython3",
   "version": "3.5.2"
  }
 },
 "nbformat": 4,
 "nbformat_minor": 2
}
