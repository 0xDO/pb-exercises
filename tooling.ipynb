{
 "cells": [
  {
   "cell_type": "code",
   "execution_count": 1,
   "metadata": {},
   "outputs": [],
   "source": [
    "# import everything and define a test runner function\n",
    "from importlib import reload\n",
    "from helper import run_test\n",
    "\n",
    "import block\n",
    "import ecc\n",
    "import helper\n",
    "import network\n",
    "import script\n",
    "import tx\n",
    "\n",
    "from ecc import PrivateKey\n",
    "from tx import TxIn, TxOut, Tx\n",
    "from helper import decode_base58, p2pkh_script\n",
    "from binascii import unhexlify, hexlify"
   ]
  },
  {
   "cell_type": "code",
   "execution_count": 92,
   "metadata": {},
   "outputs": [
    {
     "name": "stdout",
     "output_type": "stream",
     "text": [
      "9ecbde944b253d2b55723cf83950193d05f39aae96c1701dee5d01453452a724\n",
      "version: 12\n",
      "tx_ins:\n",
      "9c0e4149871531f2d67419f6df0b4ba295331d1a6611b7f4c98661f11de240ba:1\n",
      "\n",
      "tx_outs:\n",
      "90000000:15WsMAZCPy3qNj5ojxCuAHko1kWrkzfany\n",
      "9794200:1mxtVpVYUMDnBTrAMPcxhv6ZEqf3SniNe\n",
      "\n",
      "locktime: 498148\n",
      "\n",
      "b'0c000000ce976271a6ea27cb32222555c4eb9b1486ba455c8e8aa6110d04a4ab68660f2f01ba40e21df16186c9f4b711661a1d3395a24b0bdff61974d6f231158749410e9c010000001976a91485bbd70ae43a797389b0d392816d603c0885e36188acfeffffff02804a5d05000000001976a91431869819cd6f4a6f8fb0f2302dd9ef335a55b3bb88ac98729500000000001976a9140880f485f7939d3e57efc53258e93e6a8311da7388ace499070001000000'\n"
     ]
    },
    {
     "data": {
      "text/plain": [
       "True"
      ]
     },
     "execution_count": 92,
     "metadata": {},
     "output_type": "execute_result"
    }
   ],
   "source": [
    "from binascii import unhexlify, hexlify\n",
    "from io import BytesIO\n",
    "\n",
    "reload(script)\n",
    "reload(tx)\n",
    "from tx import Tx\n",
    "from helper import decode_base58, p2pkh_script\n",
    "\n",
    "stream = BytesIO(unhexlify(''))\n",
    "t = Tx.parse(stream, prev_block=True)\n",
    "print(t)\n",
    "t.verify_input(0, prev_block=True)\n"
   ]
  },
  {
   "cell_type": "code",
   "execution_count": 11,
   "metadata": {},
   "outputs": [
    {
     "name": "stdout",
     "output_type": "stream",
     "text": [
      "3c2ee68e8e3be5d5ad11afda1afa0f647a84247485c7aed327df80cbc451395f\n",
      "version: 1\n",
      "tx_ins:\n",
      "4c5f9df6286fad42054fc82d5b1fcc9049497b74a161e74ecc898221f50d1ea8:4\n",
      "b982e2e8fb7a4be0c13c74a3ac91c3097c4224b1f522d4f703ccfc912d28a817:1\n",
      "\n",
      "tx_outs:\n",
      "72900000:17wwMYd1VwJMxovt7GJRagP2nmyuFpBcsg\n",
      "\n",
      "locktime: 0\n",
      "\n"
     ]
    },
    {
     "data": {
      "text/plain": [
       "False"
      ]
     },
     "execution_count": 11,
     "metadata": {},
     "output_type": "execute_result"
    }
   ],
   "source": [
    "from binascii import unhexlify, hexlify\n",
    "from io import BytesIO\n",
    "\n",
    "reload(script)\n",
    "reload(tx)\n",
    "from tx import Tx\n",
    "from helper import decode_base58, p2pkh_script\n",
    "\n",
    "stream = BytesIO(unhexlify('0100000002a81e0df5218289cc4ee761a1747b494990cc1f5b2dc84f0542ad6f28f69d5f4c040000006b483045022100aaf4a05870a9a8ca79a612600936d27bbfce97ebf4e2fe4d311e40c4b78ca6550220175ecff50679023ffce58019ee711784229b8c738b85093d34b4ccc72592087341210313910dbdf4ecfc35f6193b8f6484ab554587f6c7e5e376351e0978e7433d8c80ffffffff17a8282d91fccc03f7d422f5b124427c09c391aca3743cc1e04b7afbe8e282b9010000006b483045022100ef1c6716e19cf7de6eea6cb6468ce7efb2480d72795dc2066d7b1ea823830a6102204cbcdc56e420d9a88a650c126375815443636a0d628096b1439814445156bb0a41210313910dbdf4ecfc35f6193b8f6484ab554587f6c7e5e376351e0978e7433d8c80ffffffff01a05d5804000000001976a9144c3496d9f64847b45318baa5afd6b515c76013cf88ac00000000'))\n",
    "t = Tx.parse(stream)\n",
    "h160 = decode_base58('14fR5g6ypHFx3F9mJwiHaHXkMs5YjS4fJZ')\n",
    "script_pubkey = p2pkh_script(h160)\n",
    "t.tx_ins[0]._value = 99800000\n",
    "t.tx_ins[0]._script_pubkey = script_pubkey\n",
    "print(t)\n",
    "t.verify_input(0, sbtc=True, bip143=False)\n"
   ]
  },
  {
   "cell_type": "code",
   "execution_count": 3,
   "metadata": {},
   "outputs": [
    {
     "ename": "RuntimeError",
     "evalue": "not valid WIF",
     "output_type": "error",
     "traceback": [
      "\u001b[0;31m---------------------------------------------------------------------------\u001b[0m",
      "\u001b[0;31mRuntimeError\u001b[0m                              Traceback (most recent call last)",
      "\u001b[0;32m<ipython-input-3-fd094a066f3e>\u001b[0m in \u001b[0;36m<module>\u001b[0;34m()\u001b[0m\n\u001b[1;32m     12\u001b[0m \u001b[0mprev_value\u001b[0m \u001b[0;34m=\u001b[0m \u001b[0;36m100000000\u001b[0m\u001b[0;34m\u001b[0m\u001b[0m\n\u001b[1;32m     13\u001b[0m \u001b[0mfee\u001b[0m \u001b[0;34m=\u001b[0m \u001b[0;36m540\u001b[0m\u001b[0;34m\u001b[0m\u001b[0m\n\u001b[0;32m---> 14\u001b[0;31m \u001b[0mpriv\u001b[0m \u001b[0;34m=\u001b[0m \u001b[0mPrivateKey\u001b[0m\u001b[0;34m.\u001b[0m\u001b[0mparse\u001b[0m\u001b[0;34m(\u001b[0m\u001b[0mwif\u001b[0m\u001b[0;34m)\u001b[0m\u001b[0;34m\u001b[0m\u001b[0m\n\u001b[0m\u001b[1;32m     15\u001b[0m \u001b[0mprev_script_pubkey\u001b[0m \u001b[0;34m=\u001b[0m \u001b[0mp2pkh_script\u001b[0m\u001b[0;34m(\u001b[0m\u001b[0mdecode_base58\u001b[0m\u001b[0;34m(\u001b[0m\u001b[0mpriv\u001b[0m\u001b[0;34m.\u001b[0m\u001b[0mpoint\u001b[0m\u001b[0;34m.\u001b[0m\u001b[0maddress\u001b[0m\u001b[0;34m(\u001b[0m\u001b[0mcompressed\u001b[0m\u001b[0;34m=\u001b[0m\u001b[0mcompressed\u001b[0m\u001b[0;34m)\u001b[0m\u001b[0;34m)\u001b[0m\u001b[0;34m)\u001b[0m\u001b[0;34m\u001b[0m\u001b[0m\n\u001b[1;32m     16\u001b[0m \u001b[0mtx_in\u001b[0m \u001b[0;34m=\u001b[0m \u001b[0mTxIn\u001b[0m\u001b[0;34m(\u001b[0m\u001b[0mprev_tx\u001b[0m\u001b[0;34m,\u001b[0m \u001b[0mprev_index\u001b[0m\u001b[0;34m,\u001b[0m \u001b[0;34mb''\u001b[0m\u001b[0;34m,\u001b[0m \u001b[0;36m0xffffffff\u001b[0m\u001b[0;34m,\u001b[0m \u001b[0mprev_value\u001b[0m\u001b[0;34m,\u001b[0m \u001b[0mprev_script_pubkey\u001b[0m\u001b[0;34m)\u001b[0m\u001b[0;34m\u001b[0m\u001b[0m\n",
      "\u001b[0;32m~/pb-exercises/ecc.py\u001b[0m in \u001b[0;36mparse\u001b[0;34m(cls, wif)\u001b[0m\n\u001b[1;32m    716\u001b[0m             \u001b[0msecret_bytes\u001b[0m \u001b[0;34m=\u001b[0m \u001b[0msecret_bytes\u001b[0m\u001b[0;34m[\u001b[0m\u001b[0;36m1\u001b[0m\u001b[0;34m:\u001b[0m\u001b[0;34m]\u001b[0m\u001b[0;34m\u001b[0m\u001b[0m\n\u001b[1;32m    717\u001b[0m         \u001b[0;32melse\u001b[0m\u001b[0;34m:\u001b[0m\u001b[0;34m\u001b[0m\u001b[0m\n\u001b[0;32m--> 718\u001b[0;31m             \u001b[0;32mraise\u001b[0m \u001b[0mRuntimeError\u001b[0m\u001b[0;34m(\u001b[0m\u001b[0;34m'not valid WIF'\u001b[0m\u001b[0;34m)\u001b[0m\u001b[0;34m\u001b[0m\u001b[0m\n\u001b[0m\u001b[1;32m    719\u001b[0m         \u001b[0;32mreturn\u001b[0m \u001b[0mcls\u001b[0m\u001b[0;34m(\u001b[0m\u001b[0mint\u001b[0m\u001b[0;34m.\u001b[0m\u001b[0mfrom_bytes\u001b[0m\u001b[0;34m(\u001b[0m\u001b[0msecret_bytes\u001b[0m\u001b[0;34m,\u001b[0m \u001b[0;34m'big'\u001b[0m\u001b[0;34m)\u001b[0m\u001b[0;34m)\u001b[0m\u001b[0;34m\u001b[0m\u001b[0m\n\u001b[1;32m    720\u001b[0m \u001b[0;34m\u001b[0m\u001b[0m\n",
      "\u001b[0;31mRuntimeError\u001b[0m: not valid WIF"
     ]
    }
   ],
   "source": [
    "wif = ''\n",
    "compressed=False\n",
    "\n",
    "from ecc import PrivateKey\n",
    "from tx import TxIn, TxOut, Tx\n",
    "from helper import decode_base58, p2pkh_script\n",
    "from binascii import unhexlify, hexlify\n",
    "\n",
    "\n",
    "prev_tx = unhexlify('')\n",
    "prev_index = 1\n",
    "prev_value = 100000000\n",
    "fee = 540\n",
    "priv = PrivateKey.parse(wif)\n",
    "prev_script_pubkey = p2pkh_script(decode_base58(priv.point.address(compressed=compressed)))\n",
    "tx_in = TxIn(prev_tx, prev_index, b'', 0xffffffff, prev_value, prev_script_pubkey)\n",
    "destination = '' # 'mzx5YhAH9kNHtcN481u6WkjeHjYtVeKVh2' # 'n2Rjcaqi5igtVm4w5q3nsBUVWYZAqgvc3x'\n",
    "h160 = decode_base58(destination)\n",
    "script_pubkey = p2pkh_script(h160)\n",
    "tx_out_destination = TxOut(prev_value-fee, script_pubkey)\n",
    "t = Tx(1, [tx_in], [tx_out_destination], 0)\n",
    "t.sign_input(0, priv, 0x40|1, compressed=compressed)\n",
    "print(hexlify(t.serialize()))\n",
    "\n",
    "# send at: https://pool.viabtc.com/tools/BCH/broadcast/\n",
    "# or: https://bcc.blockdozer.com/insight/tx/send"
   ]
  },
  {
   "cell_type": "code",
   "execution_count": 2,
   "metadata": {},
   "outputs": [
    {
     "ename": "RuntimeError",
     "evalue": "not valid WIF",
     "output_type": "error",
     "traceback": [
      "\u001b[0;31m---------------------------------------------------------------------------\u001b[0m",
      "\u001b[0;31mRuntimeError\u001b[0m                              Traceback (most recent call last)",
      "\u001b[0;32m<ipython-input-2-4349ec410452>\u001b[0m in \u001b[0;36m<module>\u001b[0;34m()\u001b[0m\n\u001b[1;32m     12\u001b[0m \u001b[0mprev_value\u001b[0m \u001b[0;34m=\u001b[0m \u001b[0;36m100000000\u001b[0m\u001b[0;34m\u001b[0m\u001b[0m\n\u001b[1;32m     13\u001b[0m \u001b[0mfee\u001b[0m \u001b[0;34m=\u001b[0m \u001b[0;36m540\u001b[0m\u001b[0;34m\u001b[0m\u001b[0m\n\u001b[0;32m---> 14\u001b[0;31m \u001b[0mpriv\u001b[0m \u001b[0;34m=\u001b[0m \u001b[0mPrivateKey\u001b[0m\u001b[0;34m.\u001b[0m\u001b[0mparse\u001b[0m\u001b[0;34m(\u001b[0m\u001b[0mwif\u001b[0m\u001b[0;34m)\u001b[0m\u001b[0;34m\u001b[0m\u001b[0m\n\u001b[0m\u001b[1;32m     15\u001b[0m \u001b[0mprev_script_pubkey\u001b[0m \u001b[0;34m=\u001b[0m \u001b[0mp2pkh_script\u001b[0m\u001b[0;34m(\u001b[0m\u001b[0mdecode_base58\u001b[0m\u001b[0;34m(\u001b[0m\u001b[0mpriv\u001b[0m\u001b[0;34m.\u001b[0m\u001b[0mpoint\u001b[0m\u001b[0;34m.\u001b[0m\u001b[0maddress\u001b[0m\u001b[0;34m(\u001b[0m\u001b[0mcompressed\u001b[0m\u001b[0;34m=\u001b[0m\u001b[0mcompressed\u001b[0m\u001b[0;34m)\u001b[0m\u001b[0;34m)\u001b[0m\u001b[0;34m)\u001b[0m\u001b[0;34m\u001b[0m\u001b[0m\n\u001b[1;32m     16\u001b[0m \u001b[0mtx_in\u001b[0m \u001b[0;34m=\u001b[0m \u001b[0mTxIn\u001b[0m\u001b[0;34m(\u001b[0m\u001b[0mprev_tx\u001b[0m\u001b[0;34m,\u001b[0m \u001b[0mprev_index\u001b[0m\u001b[0;34m,\u001b[0m \u001b[0;34mb''\u001b[0m\u001b[0;34m,\u001b[0m \u001b[0;36m0xffffffff\u001b[0m\u001b[0;34m,\u001b[0m \u001b[0mprev_value\u001b[0m\u001b[0;34m,\u001b[0m \u001b[0mprev_script_pubkey\u001b[0m\u001b[0;34m)\u001b[0m\u001b[0;34m\u001b[0m\u001b[0m\n",
      "\u001b[0;32m~/pb-exercises/ecc.py\u001b[0m in \u001b[0;36mparse\u001b[0;34m(cls, wif)\u001b[0m\n\u001b[1;32m    716\u001b[0m             \u001b[0msecret_bytes\u001b[0m \u001b[0;34m=\u001b[0m \u001b[0msecret_bytes\u001b[0m\u001b[0;34m[\u001b[0m\u001b[0;36m1\u001b[0m\u001b[0;34m:\u001b[0m\u001b[0;34m]\u001b[0m\u001b[0;34m\u001b[0m\u001b[0m\n\u001b[1;32m    717\u001b[0m         \u001b[0;32melse\u001b[0m\u001b[0;34m:\u001b[0m\u001b[0;34m\u001b[0m\u001b[0m\n\u001b[0;32m--> 718\u001b[0;31m             \u001b[0;32mraise\u001b[0m \u001b[0mRuntimeError\u001b[0m\u001b[0;34m(\u001b[0m\u001b[0;34m'not valid WIF'\u001b[0m\u001b[0;34m)\u001b[0m\u001b[0;34m\u001b[0m\u001b[0m\n\u001b[0m\u001b[1;32m    719\u001b[0m         \u001b[0;32mreturn\u001b[0m \u001b[0mcls\u001b[0m\u001b[0;34m(\u001b[0m\u001b[0mint\u001b[0m\u001b[0;34m.\u001b[0m\u001b[0mfrom_bytes\u001b[0m\u001b[0;34m(\u001b[0m\u001b[0msecret_bytes\u001b[0m\u001b[0;34m,\u001b[0m \u001b[0;34m'big'\u001b[0m\u001b[0;34m)\u001b[0m\u001b[0;34m)\u001b[0m\u001b[0;34m\u001b[0m\u001b[0m\n\u001b[1;32m    720\u001b[0m \u001b[0;34m\u001b[0m\u001b[0m\n",
      "\u001b[0;31mRuntimeError\u001b[0m: not valid WIF"
     ]
    }
   ],
   "source": [
    "wif = ''\n",
    "compressed=False\n",
    "\n",
    "\n",
    "\n",
    "\n",
    "prev_tx = unhexlify('')\n",
    "prev_index = 1\n",
    "prev_value = 100000000\n",
    "fee = 540\n",
    "priv = PrivateKey.parse(wif)\n",
    "prev_script_pubkey = p2pkh_script(decode_base58(priv.point.address(compressed=compressed)))\n",
    "tx_in = TxIn(prev_tx, prev_index, b'', 0xffffffff, prev_value, prev_script_pubkey)\n",
    "destination = '' # 'mzx5YhAH9kNHtcN481u6WkjeHjYtVeKVh2' # 'n2Rjcaqi5igtVm4w5q3nsBUVWYZAqgvc3x'\n",
    "h160 = decode_base58(destination)\n",
    "script_pubkey = p2pkh_script(h160)\n",
    "tx_out_destination = TxOut(prev_value-fee, script_pubkey)\n",
    "t = Tx(1, [tx_in], [tx_out_destination], 0)\n",
    "t.sign_input(0, priv, 0x40|1, compressed=compressed, fork_id=20224)\n",
    "print(hexlify(t.serialize()))\n",
    "\n",
    "# broadcast here: https://btgexplorer.com/tx/send"
   ]
  },
  {
   "cell_type": "code",
   "execution_count": 13,
   "metadata": {},
   "outputs": [
    {
     "name": "stdout",
     "output_type": "stream",
     "text": [
      "GHqvR8KwyrcJ5UJHvwf7RmLtvAnr5uTHdV\n"
     ]
    }
   ],
   "source": [
    "from helper import decode_base58, p2pkh_script, encode_base58_checksum\n",
    "\n",
    "h160 = decode_base58('')\n",
    "r = b'\\x26' +h160\n",
    "print(encode_base58_checksum(r))"
   ]
  },
  {
   "cell_type": "code",
   "execution_count": 14,
   "metadata": {},
   "outputs": [
    {
     "ename": "RuntimeError",
     "evalue": "not valid WIF",
     "output_type": "error",
     "traceback": [
      "\u001b[0;31m---------------------------------------------------------------------------\u001b[0m",
      "\u001b[0;31mRuntimeError\u001b[0m                              Traceback (most recent call last)",
      "\u001b[0;32m<ipython-input-14-c89b6d74971b>\u001b[0m in \u001b[0;36m<module>\u001b[0;34m()\u001b[0m\n\u001b[1;32m     14\u001b[0m \u001b[0;34m\u001b[0m\u001b[0m\n\u001b[1;32m     15\u001b[0m \u001b[0mwif\u001b[0m \u001b[0;34m=\u001b[0m \u001b[0;34m''\u001b[0m \u001b[0;31m# FILL THIS IN\u001b[0m\u001b[0;34m\u001b[0m\u001b[0m\n\u001b[0;32m---> 16\u001b[0;31m \u001b[0mpriv\u001b[0m \u001b[0;34m=\u001b[0m \u001b[0mPrivateKey\u001b[0m\u001b[0;34m.\u001b[0m\u001b[0mparse\u001b[0m\u001b[0;34m(\u001b[0m\u001b[0mwif\u001b[0m\u001b[0;34m)\u001b[0m\u001b[0;34m\u001b[0m\u001b[0m\n\u001b[0m\u001b[1;32m     17\u001b[0m \u001b[0mdestination\u001b[0m \u001b[0;34m=\u001b[0m \u001b[0;34m''\u001b[0m \u001b[0;31m# FILL THIS IN\u001b[0m\u001b[0;34m\u001b[0m\u001b[0m\n\u001b[1;32m     18\u001b[0m \u001b[0;32mif\u001b[0m \u001b[0mdestination\u001b[0m \u001b[0;34m==\u001b[0m \u001b[0;34m''\u001b[0m\u001b[0;34m:\u001b[0m\u001b[0;34m\u001b[0m\u001b[0m\n",
      "\u001b[0;32m~/pb-exercises/ecc.py\u001b[0m in \u001b[0;36mparse\u001b[0;34m(cls, wif)\u001b[0m\n\u001b[1;32m    716\u001b[0m             \u001b[0msecret_bytes\u001b[0m \u001b[0;34m=\u001b[0m \u001b[0msecret_bytes\u001b[0m\u001b[0;34m[\u001b[0m\u001b[0;36m1\u001b[0m\u001b[0;34m:\u001b[0m\u001b[0;34m]\u001b[0m\u001b[0;34m\u001b[0m\u001b[0m\n\u001b[1;32m    717\u001b[0m         \u001b[0;32melse\u001b[0m\u001b[0;34m:\u001b[0m\u001b[0;34m\u001b[0m\u001b[0m\n\u001b[0;32m--> 718\u001b[0;31m             \u001b[0;32mraise\u001b[0m \u001b[0mRuntimeError\u001b[0m\u001b[0;34m(\u001b[0m\u001b[0;34m'not valid WIF'\u001b[0m\u001b[0;34m)\u001b[0m\u001b[0;34m\u001b[0m\u001b[0m\n\u001b[0m\u001b[1;32m    719\u001b[0m         \u001b[0;32mreturn\u001b[0m \u001b[0mcls\u001b[0m\u001b[0;34m(\u001b[0m\u001b[0mint\u001b[0m\u001b[0;34m.\u001b[0m\u001b[0mfrom_bytes\u001b[0m\u001b[0;34m(\u001b[0m\u001b[0msecret_bytes\u001b[0m\u001b[0;34m,\u001b[0m \u001b[0;34m'big'\u001b[0m\u001b[0;34m)\u001b[0m\u001b[0;34m)\u001b[0m\u001b[0;34m\u001b[0m\u001b[0m\n\u001b[1;32m    720\u001b[0m \u001b[0;34m\u001b[0m\u001b[0m\n",
      "\u001b[0;31mRuntimeError\u001b[0m: not valid WIF"
     ]
    }
   ],
   "source": [
    "# BCH\n",
    "\n",
    "#use https://bcc.blockdozer.com/insight/addr/[addr]/utxo or https://btgexplorer.com/api/addr/[btg addr]/utxo\n",
    "data = []\n",
    "total = 0\n",
    "fee = 540\n",
    "fork_id = 0\n",
    "compressed = False\n",
    "tx_ins = []\n",
    "for utxo in data:\n",
    "    prev_tx = unhexlify(utxo['txid'])\n",
    "    prev_index = utxo['vout']\n",
    "    prev_value = utxo['satoshis']\n",
    "    script_pubkey = unhexlify(utxo['scriptPubKey'])\n",
    "    total += prev_value\n",
    "    tx_ins.append(TxIn(prev_tx, prev_index, b'', 0xffffffff, prev_value, script_pubkey))\n",
    "\n",
    "wif = '' # FILL THIS IN\n",
    "priv = PrivateKey.parse(wif)\n",
    "destination = '' # FILL THIS IN\n",
    "if destination == '':\n",
    "    raise RuntimeError\n",
    "h160 = decode_base58(destination)\n",
    "script_pubkey = p2pkh_script(h160)\n",
    "tx_out_destination = TxOut(total-fee, script_pubkey)\n",
    "t = Tx(1, tx_ins, [tx_out_destination], 0)\n",
    "t.sign(priv, compressed=compressed, fork_id=fork_id)\n",
    "print(hexlify(t.serialize()))\n"
   ]
  },
  {
   "cell_type": "code",
   "execution_count": 14,
   "metadata": {},
   "outputs": [
    {
     "ename": "RuntimeError",
     "evalue": "not valid WIF",
     "output_type": "error",
     "traceback": [
      "\u001b[0;31m---------------------------------------------------------------------------\u001b[0m",
      "\u001b[0;31mRuntimeError\u001b[0m                              Traceback (most recent call last)",
      "\u001b[0;32m<ipython-input-14-c89b6d74971b>\u001b[0m in \u001b[0;36m<module>\u001b[0;34m()\u001b[0m\n\u001b[1;32m     14\u001b[0m \u001b[0;34m\u001b[0m\u001b[0m\n\u001b[1;32m     15\u001b[0m \u001b[0mwif\u001b[0m \u001b[0;34m=\u001b[0m \u001b[0;34m''\u001b[0m \u001b[0;31m# FILL THIS IN\u001b[0m\u001b[0;34m\u001b[0m\u001b[0m\n\u001b[0;32m---> 16\u001b[0;31m \u001b[0mpriv\u001b[0m \u001b[0;34m=\u001b[0m \u001b[0mPrivateKey\u001b[0m\u001b[0;34m.\u001b[0m\u001b[0mparse\u001b[0m\u001b[0;34m(\u001b[0m\u001b[0mwif\u001b[0m\u001b[0;34m)\u001b[0m\u001b[0;34m\u001b[0m\u001b[0m\n\u001b[0m\u001b[1;32m     17\u001b[0m \u001b[0mdestination\u001b[0m \u001b[0;34m=\u001b[0m \u001b[0;34m''\u001b[0m \u001b[0;31m# FILL THIS IN\u001b[0m\u001b[0;34m\u001b[0m\u001b[0m\n\u001b[1;32m     18\u001b[0m \u001b[0;32mif\u001b[0m \u001b[0mdestination\u001b[0m \u001b[0;34m==\u001b[0m \u001b[0;34m''\u001b[0m\u001b[0;34m:\u001b[0m\u001b[0;34m\u001b[0m\u001b[0m\n",
      "\u001b[0;32m~/pb-exercises/ecc.py\u001b[0m in \u001b[0;36mparse\u001b[0;34m(cls, wif)\u001b[0m\n\u001b[1;32m    716\u001b[0m             \u001b[0msecret_bytes\u001b[0m \u001b[0;34m=\u001b[0m \u001b[0msecret_bytes\u001b[0m\u001b[0;34m[\u001b[0m\u001b[0;36m1\u001b[0m\u001b[0;34m:\u001b[0m\u001b[0;34m]\u001b[0m\u001b[0;34m\u001b[0m\u001b[0m\n\u001b[1;32m    717\u001b[0m         \u001b[0;32melse\u001b[0m\u001b[0;34m:\u001b[0m\u001b[0;34m\u001b[0m\u001b[0m\n\u001b[0;32m--> 718\u001b[0;31m             \u001b[0;32mraise\u001b[0m \u001b[0mRuntimeError\u001b[0m\u001b[0;34m(\u001b[0m\u001b[0;34m'not valid WIF'\u001b[0m\u001b[0;34m)\u001b[0m\u001b[0;34m\u001b[0m\u001b[0m\n\u001b[0m\u001b[1;32m    719\u001b[0m         \u001b[0;32mreturn\u001b[0m \u001b[0mcls\u001b[0m\u001b[0;34m(\u001b[0m\u001b[0mint\u001b[0m\u001b[0;34m.\u001b[0m\u001b[0mfrom_bytes\u001b[0m\u001b[0;34m(\u001b[0m\u001b[0msecret_bytes\u001b[0m\u001b[0;34m,\u001b[0m \u001b[0;34m'big'\u001b[0m\u001b[0;34m)\u001b[0m\u001b[0;34m)\u001b[0m\u001b[0;34m\u001b[0m\u001b[0m\n\u001b[1;32m    720\u001b[0m \u001b[0;34m\u001b[0m\u001b[0m\n",
      "\u001b[0;31mRuntimeError\u001b[0m: not valid WIF"
     ]
    }
   ],
   "source": [
    "# BCH\n",
    "\n",
    "#use https://bcc.blockdozer.com/insight/addr/[addr]/utxo \n",
    "data = []\n",
    "total = 0\n",
    "fee = 540\n",
    "fork_id = 0\n",
    "compressed = False\n",
    "tx_ins = []\n",
    "for utxo in data:\n",
    "    prev_tx = unhexlify(utxo['txid'])\n",
    "    prev_index = utxo['vout']\n",
    "    prev_value = utxo['satoshis']\n",
    "    script_pubkey = unhexlify(utxo['scriptPubKey'])\n",
    "    total += prev_value\n",
    "    tx_ins.append(TxIn(prev_tx, prev_index, b'', 0xffffffff, prev_value, script_pubkey))\n",
    "\n",
    "wif = '' # FILL THIS IN\n",
    "priv = PrivateKey.parse(wif)\n",
    "destination = '' # FILL THIS IN\n",
    "if destination == '':\n",
    "    raise RuntimeError\n",
    "h160 = decode_base58(destination)\n",
    "script_pubkey = p2pkh_script(h160)\n",
    "tx_out_destination = TxOut(total-fee, script_pubkey)\n",
    "t = Tx(1, tx_ins, [tx_out_destination], 0)\n",
    "t.sign(priv, compressed=compressed, fork_id=fork_id, bip143=True)\n",
    "print(hexlify(t.serialize()))\n"
   ]
  },
  {
   "cell_type": "code",
   "execution_count": null,
   "metadata": {},
   "outputs": [],
   "source": [
    "# BTG\n",
    "\n",
    "# https://btgexplorer.com/api/addr/[btg addr]/utxo\n",
    "data = []\n",
    "total = 0\n",
    "fee = 540\n",
    "fork_id = 0\n",
    "compressed = False\n",
    "tx_ins = []\n",
    "for utxo in data:\n",
    "    prev_tx = unhexlify(utxo['txid'])\n",
    "    prev_index = utxo['vout']\n",
    "    prev_value = utxo['satoshis']\n",
    "    script_pubkey = unhexlify(utxo['scriptPubKey'])\n",
    "    total += prev_value\n",
    "    tx_ins.append(TxIn(prev_tx, prev_index, b'', 0xffffffff, prev_value, script_pubkey))\n",
    "\n",
    "wif = '' # FILL THIS IN\n",
    "priv = PrivateKey.parse(wif)\n",
    "destination = '' # FILL THIS IN\n",
    "if destination == '':\n",
    "    raise RuntimeError\n",
    "h160 = decode_base58(destination)\n",
    "script_pubkey = p2pkh_script(h160)\n",
    "tx_out_destination = TxOut(total-fee, script_pubkey)\n",
    "t = Tx(1, tx_ins, [tx_out_destination], 0)\n",
    "t.sign(priv, compressed=compressed, fork_id=fork_id, bip143=True)\n",
    "print(hexlify(t.serialize()))\n"
   ]
  },
  {
   "cell_type": "code",
   "execution_count": 8,
   "metadata": {},
   "outputs": [
    {
     "ename": "RuntimeError",
     "evalue": "",
     "output_type": "error",
     "traceback": [
      "\u001b[0;31m---------------------------------------------------------------------------\u001b[0m",
      "\u001b[0;31mRuntimeError\u001b[0m                              Traceback (most recent call last)",
      "\u001b[0;32m<ipython-input-8-afdf707dcd3a>\u001b[0m in \u001b[0;36m<module>\u001b[0;34m()\u001b[0m\n\u001b[1;32m     21\u001b[0m \u001b[0mdestination\u001b[0m \u001b[0;34m=\u001b[0m \u001b[0;34m''\u001b[0m \u001b[0;31m# FILL THIS IN\u001b[0m\u001b[0;34m\u001b[0m\u001b[0m\n\u001b[1;32m     22\u001b[0m \u001b[0;32mif\u001b[0m \u001b[0mdestination\u001b[0m \u001b[0;34m==\u001b[0m \u001b[0;34m''\u001b[0m\u001b[0;34m:\u001b[0m\u001b[0;34m\u001b[0m\u001b[0m\n\u001b[0;32m---> 23\u001b[0;31m     \u001b[0;32mraise\u001b[0m \u001b[0mRuntimeError\u001b[0m\u001b[0;34m\u001b[0m\u001b[0m\n\u001b[0m\u001b[1;32m     24\u001b[0m \u001b[0mh160\u001b[0m \u001b[0;34m=\u001b[0m \u001b[0mdecode_base58\u001b[0m\u001b[0;34m(\u001b[0m\u001b[0mdestination\u001b[0m\u001b[0;34m)\u001b[0m\u001b[0;34m\u001b[0m\u001b[0m\n\u001b[1;32m     25\u001b[0m \u001b[0mscript_pubkey\u001b[0m \u001b[0;34m=\u001b[0m \u001b[0mp2pkh_script\u001b[0m\u001b[0;34m(\u001b[0m\u001b[0mh160\u001b[0m\u001b[0;34m)\u001b[0m\u001b[0;34m\u001b[0m\u001b[0m\n",
      "\u001b[0;31mRuntimeError\u001b[0m: "
     ]
    }
   ],
   "source": [
    "# BCD\n",
    "from helper import h160_to_p2pkh_address\n",
    "reload(tx)\n",
    "wif_lookup = {}\n",
    "data = [\n",
    "]\n",
    "prev_block_hash = unhexlify('570ff1b396b75f80c490d7e1e497e8e0d22bc14e4dc5540e044093721b2875b7')[::-1]\n",
    "total = 0\n",
    "fee = 10000\n",
    "fork_id = 0\n",
    "compressed = False\n",
    "tx_ins = []\n",
    "for utxo in data:\n",
    "    prev_tx = unhexlify(utxo['txid'])\n",
    "    prev_index = utxo['txindex']\n",
    "    prev_value = utxo['value']\n",
    "    script_pubkey = unhexlify(utxo['script'])\n",
    "    total += prev_value\n",
    "    tx_ins.append(TxIn(prev_tx, prev_index, b'', 0xffffffff, prev_value, script_pubkey))\n",
    "\n",
    "destination = '' # FILL THIS IN\n",
    "if destination == '':\n",
    "    raise RuntimeError\n",
    "h160 = decode_base58(destination)\n",
    "script_pubkey = p2pkh_script(h160)\n",
    "tx_out_destination = TxOut(total-fee, script_pubkey)\n",
    "t = Tx(12, tx_ins, [tx_out_destination], 0, prev_block_hash=prev_block_hash)\n",
    "\n",
    "for i, utxo in enumerate(data):\n",
    "    addr = h160_to_p2pkh_address(unhexlify(utxo['script'])[3:-2])\n",
    "    wif = wif_lookup[addr]\n",
    "    print(wif)\n",
    "    priv = PrivateKey.parse(wif)\n",
    "    t.sign_input(i, priv, 1, compressed=compressed, fork_id=fork_id, prev_block=True)\n",
    "print(hexlify(t.serialize(prev_block=True)))\n"
   ]
  },
  {
   "cell_type": "code",
   "execution_count": 9,
   "metadata": {},
   "outputs": [
    {
     "ename": "JSONDecodeError",
     "evalue": "Expecting value: line 1 column 1 (char 0)",
     "output_type": "error",
     "traceback": [
      "\u001b[0;31m---------------------------------------------------------------------------\u001b[0m",
      "\u001b[0;31mJSONDecodeError\u001b[0m                           Traceback (most recent call last)",
      "\u001b[0;32m<ipython-input-9-c9a331709688>\u001b[0m in \u001b[0;36m<module>\u001b[0;34m()\u001b[0m\n\u001b[1;32m      9\u001b[0m }\n\u001b[1;32m     10\u001b[0m \u001b[0;34m\u001b[0m\u001b[0m\n\u001b[0;32m---> 11\u001b[0;31m \u001b[0mtxs\u001b[0m \u001b[0;34m=\u001b[0m \u001b[0mrequests\u001b[0m\u001b[0;34m.\u001b[0m\u001b[0mpost\u001b[0m\u001b[0;34m(\u001b[0m\u001b[0;34m'https://btc-bitcore1.trezor.io/api/addrs/txs'\u001b[0m\u001b[0;34m,\u001b[0m \u001b[0mdata\u001b[0m\u001b[0;34m=\u001b[0m\u001b[0mdata\u001b[0m\u001b[0;34m)\u001b[0m\u001b[0;34m.\u001b[0m\u001b[0mjson\u001b[0m\u001b[0;34m(\u001b[0m\u001b[0;34m)\u001b[0m\u001b[0;34m\u001b[0m\u001b[0m\n\u001b[0m\u001b[1;32m     12\u001b[0m \u001b[0mprint\u001b[0m\u001b[0;34m(\u001b[0m\u001b[0mtxs\u001b[0m\u001b[0;34m[\u001b[0m\u001b[0;34m'totalItems'\u001b[0m\u001b[0;34m]\u001b[0m\u001b[0;34m)\u001b[0m\u001b[0;34m\u001b[0m\u001b[0m\n\u001b[1;32m     13\u001b[0m \u001b[0;34m\u001b[0m\u001b[0m\n",
      "\u001b[0;32m~/pb-exercises/.venv/lib/python3.5/site-packages/requests/models.py\u001b[0m in \u001b[0;36mjson\u001b[0;34m(self, **kwargs)\u001b[0m\n\u001b[1;32m    890\u001b[0m                     \u001b[0;31m# used.\u001b[0m\u001b[0;34m\u001b[0m\u001b[0;34m\u001b[0m\u001b[0m\n\u001b[1;32m    891\u001b[0m                     \u001b[0;32mpass\u001b[0m\u001b[0;34m\u001b[0m\u001b[0m\n\u001b[0;32m--> 892\u001b[0;31m         \u001b[0;32mreturn\u001b[0m \u001b[0mcomplexjson\u001b[0m\u001b[0;34m.\u001b[0m\u001b[0mloads\u001b[0m\u001b[0;34m(\u001b[0m\u001b[0mself\u001b[0m\u001b[0;34m.\u001b[0m\u001b[0mtext\u001b[0m\u001b[0;34m,\u001b[0m \u001b[0;34m**\u001b[0m\u001b[0mkwargs\u001b[0m\u001b[0;34m)\u001b[0m\u001b[0;34m\u001b[0m\u001b[0m\n\u001b[0m\u001b[1;32m    893\u001b[0m \u001b[0;34m\u001b[0m\u001b[0m\n\u001b[1;32m    894\u001b[0m     \u001b[0;34m@\u001b[0m\u001b[0mproperty\u001b[0m\u001b[0;34m\u001b[0m\u001b[0m\n",
      "\u001b[0;32m/usr/lib/python3.5/json/__init__.py\u001b[0m in \u001b[0;36mloads\u001b[0;34m(s, encoding, cls, object_hook, parse_float, parse_int, parse_constant, object_pairs_hook, **kw)\u001b[0m\n\u001b[1;32m    317\u001b[0m             \u001b[0mparse_int\u001b[0m \u001b[0;32mis\u001b[0m \u001b[0;32mNone\u001b[0m \u001b[0;32mand\u001b[0m \u001b[0mparse_float\u001b[0m \u001b[0;32mis\u001b[0m \u001b[0;32mNone\u001b[0m \u001b[0;32mand\u001b[0m\u001b[0;34m\u001b[0m\u001b[0m\n\u001b[1;32m    318\u001b[0m             parse_constant is None and object_pairs_hook is None and not kw):\n\u001b[0;32m--> 319\u001b[0;31m         \u001b[0;32mreturn\u001b[0m \u001b[0m_default_decoder\u001b[0m\u001b[0;34m.\u001b[0m\u001b[0mdecode\u001b[0m\u001b[0;34m(\u001b[0m\u001b[0ms\u001b[0m\u001b[0;34m)\u001b[0m\u001b[0;34m\u001b[0m\u001b[0m\n\u001b[0m\u001b[1;32m    320\u001b[0m     \u001b[0;32mif\u001b[0m \u001b[0mcls\u001b[0m \u001b[0;32mis\u001b[0m \u001b[0;32mNone\u001b[0m\u001b[0;34m:\u001b[0m\u001b[0;34m\u001b[0m\u001b[0m\n\u001b[1;32m    321\u001b[0m         \u001b[0mcls\u001b[0m \u001b[0;34m=\u001b[0m \u001b[0mJSONDecoder\u001b[0m\u001b[0;34m\u001b[0m\u001b[0m\n",
      "\u001b[0;32m/usr/lib/python3.5/json/decoder.py\u001b[0m in \u001b[0;36mdecode\u001b[0;34m(self, s, _w)\u001b[0m\n\u001b[1;32m    337\u001b[0m \u001b[0;34m\u001b[0m\u001b[0m\n\u001b[1;32m    338\u001b[0m         \"\"\"\n\u001b[0;32m--> 339\u001b[0;31m         \u001b[0mobj\u001b[0m\u001b[0;34m,\u001b[0m \u001b[0mend\u001b[0m \u001b[0;34m=\u001b[0m \u001b[0mself\u001b[0m\u001b[0;34m.\u001b[0m\u001b[0mraw_decode\u001b[0m\u001b[0;34m(\u001b[0m\u001b[0ms\u001b[0m\u001b[0;34m,\u001b[0m \u001b[0midx\u001b[0m\u001b[0;34m=\u001b[0m\u001b[0m_w\u001b[0m\u001b[0;34m(\u001b[0m\u001b[0ms\u001b[0m\u001b[0;34m,\u001b[0m \u001b[0;36m0\u001b[0m\u001b[0;34m)\u001b[0m\u001b[0;34m.\u001b[0m\u001b[0mend\u001b[0m\u001b[0;34m(\u001b[0m\u001b[0;34m)\u001b[0m\u001b[0;34m)\u001b[0m\u001b[0;34m\u001b[0m\u001b[0m\n\u001b[0m\u001b[1;32m    340\u001b[0m         \u001b[0mend\u001b[0m \u001b[0;34m=\u001b[0m \u001b[0m_w\u001b[0m\u001b[0;34m(\u001b[0m\u001b[0ms\u001b[0m\u001b[0;34m,\u001b[0m \u001b[0mend\u001b[0m\u001b[0;34m)\u001b[0m\u001b[0;34m.\u001b[0m\u001b[0mend\u001b[0m\u001b[0;34m(\u001b[0m\u001b[0;34m)\u001b[0m\u001b[0;34m\u001b[0m\u001b[0m\n\u001b[1;32m    341\u001b[0m         \u001b[0;32mif\u001b[0m \u001b[0mend\u001b[0m \u001b[0;34m!=\u001b[0m \u001b[0mlen\u001b[0m\u001b[0;34m(\u001b[0m\u001b[0ms\u001b[0m\u001b[0;34m)\u001b[0m\u001b[0;34m:\u001b[0m\u001b[0;34m\u001b[0m\u001b[0m\n",
      "\u001b[0;32m/usr/lib/python3.5/json/decoder.py\u001b[0m in \u001b[0;36mraw_decode\u001b[0;34m(self, s, idx)\u001b[0m\n\u001b[1;32m    355\u001b[0m             \u001b[0mobj\u001b[0m\u001b[0;34m,\u001b[0m \u001b[0mend\u001b[0m \u001b[0;34m=\u001b[0m \u001b[0mself\u001b[0m\u001b[0;34m.\u001b[0m\u001b[0mscan_once\u001b[0m\u001b[0;34m(\u001b[0m\u001b[0ms\u001b[0m\u001b[0;34m,\u001b[0m \u001b[0midx\u001b[0m\u001b[0;34m)\u001b[0m\u001b[0;34m\u001b[0m\u001b[0m\n\u001b[1;32m    356\u001b[0m         \u001b[0;32mexcept\u001b[0m \u001b[0mStopIteration\u001b[0m \u001b[0;32mas\u001b[0m \u001b[0merr\u001b[0m\u001b[0;34m:\u001b[0m\u001b[0;34m\u001b[0m\u001b[0m\n\u001b[0;32m--> 357\u001b[0;31m             \u001b[0;32mraise\u001b[0m \u001b[0mJSONDecodeError\u001b[0m\u001b[0;34m(\u001b[0m\u001b[0;34m\"Expecting value\"\u001b[0m\u001b[0;34m,\u001b[0m \u001b[0ms\u001b[0m\u001b[0;34m,\u001b[0m \u001b[0merr\u001b[0m\u001b[0;34m.\u001b[0m\u001b[0mvalue\u001b[0m\u001b[0;34m)\u001b[0m \u001b[0;32mfrom\u001b[0m \u001b[0;32mNone\u001b[0m\u001b[0;34m\u001b[0m\u001b[0m\n\u001b[0m\u001b[1;32m    358\u001b[0m         \u001b[0;32mreturn\u001b[0m \u001b[0mobj\u001b[0m\u001b[0;34m,\u001b[0m \u001b[0mend\u001b[0m\u001b[0;34m\u001b[0m\u001b[0m\n",
      "\u001b[0;31mJSONDecodeError\u001b[0m: Expecting value: line 1 column 1 (char 0)"
     ]
    }
   ],
   "source": [
    "import requests\n",
    "\n",
    "addrs = []\n",
    "\n",
    "data = {\n",
    "    'addrs': ','.join(addrs),\n",
    "    'from': 0,\n",
    "    'to': 100,\n",
    "}\n",
    "\n",
    "txs = requests.post('https://btc-bitcore1.trezor.io/api/addrs/txs', data=data).json()\n",
    "print(txs['totalItems'])\n",
    "\n",
    "for item in txs['items']:\n",
    "    if item['blockheight'] > 495866:\n",
    "        continue\n",
    "    for i, output in enumerate(item['vout']):\n",
    "        if output['scriptPubKey']['addresses'][0] in addrs:\n",
    "            print('{{ \"txid\":\"{}\", \"txindex\":{}, \"value\":{}, \"script\":\"{}\" }},'.format(item['txid'],i,output['value'],output['scriptPubKey']['hex']))\n"
   ]
  },
  {
   "cell_type": "code",
   "execution_count": null,
   "metadata": {},
   "outputs": [],
   "source": [
    "]\n"
   ]
  },
  {
   "cell_type": "code",
   "execution_count": null,
   "metadata": {},
   "outputs": [],
   "source": []
  }
 ],
 "metadata": {
  "kernelspec": {
   "display_name": "Python 3",
   "language": "python",
   "name": "python3"
  },
  "language_info": {
   "codemirror_mode": {
    "name": "ipython",
    "version": 3
   },
   "file_extension": ".py",
   "mimetype": "text/x-python",
   "name": "python",
   "nbconvert_exporter": "python",
   "pygments_lexer": "ipython3",
   "version": "3.5.2"
  }
 },
 "nbformat": 4,
 "nbformat_minor": 2
}
