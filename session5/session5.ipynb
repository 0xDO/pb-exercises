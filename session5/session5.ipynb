{
 "cells": [
  {
   "cell_type": "code",
   "execution_count": 2,
   "metadata": {},
   "outputs": [
    {
     "ename": "TypeError",
     "evalue": "hash_to_sign() takes 2 positional arguments but 3 were given",
     "output_type": "error",
     "traceback": [
      "\u001b[0;31m---------------------------------------------------------------------------\u001b[0m",
      "\u001b[0;31mTypeError\u001b[0m                                 Traceback (most recent call last)",
      "\u001b[0;32m<ipython-input-2-ce555a0efa10>\u001b[0m in \u001b[0;36m<module>\u001b[0;34m()\u001b[0m\n\u001b[1;32m     26\u001b[0m \u001b[0mtx\u001b[0m \u001b[0;34m=\u001b[0m \u001b[0mTx\u001b[0m\u001b[0;34m(\u001b[0m\u001b[0mversion\u001b[0m\u001b[0;34m=\u001b[0m\u001b[0;36m1\u001b[0m\u001b[0;34m,\u001b[0m \u001b[0mtx_ins\u001b[0m\u001b[0;34m=\u001b[0m\u001b[0mtx_ins\u001b[0m\u001b[0;34m,\u001b[0m \u001b[0mtx_outs\u001b[0m\u001b[0;34m=\u001b[0m\u001b[0mtx_outs\u001b[0m\u001b[0;34m,\u001b[0m \u001b[0mlocktime\u001b[0m\u001b[0;34m=\u001b[0m\u001b[0;36m0\u001b[0m\u001b[0;34m,\u001b[0m \u001b[0mtestnet\u001b[0m\u001b[0;34m=\u001b[0m\u001b[0;32mTrue\u001b[0m\u001b[0;34m)\u001b[0m\u001b[0;34m\u001b[0m\u001b[0m\n\u001b[1;32m     27\u001b[0m \u001b[0msighash\u001b[0m \u001b[0;34m=\u001b[0m \u001b[0;36m1\u001b[0m\u001b[0;34m\u001b[0m\u001b[0m\n\u001b[0;32m---> 28\u001b[0;31m \u001b[0mz\u001b[0m \u001b[0;34m=\u001b[0m \u001b[0mtx\u001b[0m\u001b[0;34m.\u001b[0m\u001b[0mhash_to_sign\u001b[0m\u001b[0;34m(\u001b[0m\u001b[0;36m0\u001b[0m\u001b[0;34m,\u001b[0m \u001b[0msighash\u001b[0m\u001b[0;34m)\u001b[0m\u001b[0;34m\u001b[0m\u001b[0m\n\u001b[0m\u001b[1;32m     29\u001b[0m \u001b[0mpk\u001b[0m \u001b[0;34m=\u001b[0m \u001b[0mPrivateKey\u001b[0m\u001b[0;34m(\u001b[0m\u001b[0msecret\u001b[0m\u001b[0;34m=\u001b[0m\u001b[0;36m8675309\u001b[0m\u001b[0;34m)\u001b[0m\u001b[0;34m\u001b[0m\u001b[0m\n\u001b[1;32m     30\u001b[0m \u001b[0mder\u001b[0m \u001b[0;34m=\u001b[0m \u001b[0mpk\u001b[0m\u001b[0;34m.\u001b[0m\u001b[0msign\u001b[0m\u001b[0;34m(\u001b[0m\u001b[0mz\u001b[0m\u001b[0;34m)\u001b[0m\u001b[0;34m.\u001b[0m\u001b[0mder\u001b[0m\u001b[0;34m(\u001b[0m\u001b[0;34m)\u001b[0m\u001b[0;34m\u001b[0m\u001b[0m\n",
      "\u001b[0;31mTypeError\u001b[0m: hash_to_sign() takes 2 positional arguments but 3 were given"
     ]
    }
   ],
   "source": [
    "from binascii import hexlify, unhexlify\n",
    "from ecc import PrivateKey\n",
    "from helper import decode_base58, p2pkh_script\n",
    "from script import Script\n",
    "from tx import TxIn, TxOut, Tx\n",
    "\n",
    "tx_ins = []\n",
    "prev_tx = unhexlify('0025bc3c0fa8b7eb55b9437fdbd016870d18e0df0ace7bc9864efc38414147c8')\n",
    "tx_ins.append(TxIn(\n",
    "            prev_tx=prev_tx,\n",
    "            prev_index=0,\n",
    "            script_sig=b'',\n",
    "            sequence=0xffffffff,\n",
    "        ))\n",
    "tx_outs = []\n",
    "h160 = decode_base58('mzx5YhAH9kNHtcN481u6WkjeHjYtVeKVh2')\n",
    "tx_outs.append(TxOut(\n",
    "    amount=int(0.99*100000000),\n",
    "    script_pubkey=p2pkh_script(h160),\n",
    "))\n",
    "h160 = decode_base58('mnrVtF8DWjMu839VW3rBfgYaAfKk8983Xf')\n",
    "tx_outs.append(TxOut(\n",
    "    amount=int(0.1*100000000),\n",
    "    script_pubkey=p2pkh_script(h160),\n",
    "))\n",
    "tx = Tx(version=1, tx_ins=tx_ins, tx_outs=tx_outs, locktime=0, testnet=True)\n",
    "sighash = 1\n",
    "z = tx.hash_to_sign(0, sighash)\n",
    "pk = PrivateKey(secret=8675309)\n",
    "der = pk.sign(z).der()\n",
    "sig = der + bytes([sighash])\n",
    "sec = unhexlify(pk.point.sec())\n",
    "script_sig = bytes([len(sig)]) + sig + bytes([len(sec)]) + sec\n",
    "script_sig = bytes([len(script_sig)]) + script_sig\n",
    "tx.tx_ins[0].script_sig = Script.parse(script_sig)\n",
    "print(hexlify(tx.serialize()))"
   ]
  },
  {
   "cell_type": "code",
   "execution_count": 1,
   "metadata": {},
   "outputs": [
    {
     "name": "stdout",
     "output_type": "stream",
     "text": [
      "mrAjisaT4LXL5MzE81sfcDYKU3wqWSvf9q\n"
     ]
    }
   ],
   "source": [
    "from helper import encode_base58_checksum\n",
    "from binascii import unhexlify\n",
    "print(encode_base58_checksum(b'\\x6f'+unhexlify('74d691da1574e6b3c192ecfb52cc8984ee7b6c56')))\n",
    "\n"
   ]
  },
  {
   "cell_type": "code",
   "execution_count": 2,
   "metadata": {},
   "outputs": [
    {
     "name": "stdout",
     "output_type": "stream",
     "text": [
      "0xe71bfa115715d6fd33796948126f40a8cdd39f187e4afb03896795189fe1423c\n"
     ]
    }
   ],
   "source": [
    "from binascii import hexlify, unhexlify\n",
    "from helper import double_sha256\n",
    "\n",
    "z = int(hexlify(double_sha256(unhexlify('0100000001868278ed6ddfb6c1ed3ad5f8181eb0c7a385aa0836f01d5e4789e6bd304d87221a000000475221022626e955ea6ea6d98850c994f9107b036b1334f18ca8830bfff1295d21cfdb702103b287eaf122eea69030a0e9feed096bed8045c8b98bec453e1ffac7fbdbd4bb7152aeffffffff04d3b11400000000001976a914904a49878c0adfc3aa05de7afad2cc15f483a56a88ac7f400900000000001976a914418327e3f3dda4cf5b9089325a4b95abdfa0334088ac722c0c00000000001976a914ba35042cfe9fc66fd35ac2224eebdafd1028ad2788acdc4ace020000000017a91474d691da1574e6b3c192ecfb52cc8984ee7b6c56870000000001000000'))), 16)\n",
    "\n",
    "print(hex(z))"
   ]
  },
  {
   "cell_type": "code",
   "execution_count": 3,
   "metadata": {},
   "outputs": [
    {
     "name": "stdout",
     "output_type": "stream",
     "text": [
      "True\n"
     ]
    }
   ],
   "source": [
    "from binascii import hexlify, unhexlify\n",
    "from ecc import S256Point, Signature\n",
    "from helper import double_sha256\n",
    "\n",
    "z = int(hexlify(double_sha256(unhexlify('0100000001868278ed6ddfb6c1ed3ad5f8181eb0c7a385aa0836f01d5e4789e6bd304d87221a000000475221022626e955ea6ea6d98850c994f9107b036b1334f18ca8830bfff1295d21cfdb702103b287eaf122eea69030a0e9feed096bed8045c8b98bec453e1ffac7fbdbd4bb7152aeffffffff04d3b11400000000001976a914904a49878c0adfc3aa05de7afad2cc15f483a56a88ac7f400900000000001976a914418327e3f3dda4cf5b9089325a4b95abdfa0334088ac722c0c00000000001976a914ba35042cfe9fc66fd35ac2224eebdafd1028ad2788acdc4ace020000000017a91474d691da1574e6b3c192ecfb52cc8984ee7b6c56870000000001000000'))), 16)\n",
    "\n",
    "point = S256Point.from_sec(unhexlify('022626e955ea6ea6d98850c994f9107b036b1334f18ca8830bfff1295d21cfdb70'))\n",
    "r = 0x00dc92655fe37036f47756db8102e0d7d5e28b3beb83a8fef4f5dc0559bddfb94e\n",
    "s = 0x5a36d4e4e6c7fcd16658c50783e00c341609977aed3ad00937bf4ee942a89937\n",
    "sig = Signature(r,s)\n",
    "print(point.verify(z, sig))\n"
   ]
  },
  {
   "cell_type": "code",
   "execution_count": 4,
   "metadata": {},
   "outputs": [
    {
     "name": "stderr",
     "output_type": "stream",
     "text": [
      "..\n",
      "----------------------------------------------------------------------\n",
      "Ran 2 tests in 0.002s\n",
      "\n",
      "OK\n"
     ]
    },
    {
     "data": {
      "text/plain": [
       "<unittest.runner.TextTestResult run=2 errors=0 failures=0>"
      ]
     },
     "execution_count": 4,
     "metadata": {},
     "output_type": "execute_result"
    }
   ],
   "source": [
    "from script import ScriptTest\n",
    "import unittest\n",
    "\n",
    "suite = unittest.TestLoader().loadTestsFromModule(ScriptTest())\n",
    "unittest.TextTestRunner().run(suite)\n"
   ]
  },
  {
   "cell_type": "code",
   "execution_count": 1,
   "metadata": {},
   "outputs": [
    {
     "name": "stderr",
     "output_type": "stream",
     "text": [
      ".E......EEEEEE\n",
      "======================================================================\n",
      "ERROR: test_hash_to_sign (tx.TxTest)\n",
      "----------------------------------------------------------------------\n",
      "Traceback (most recent call last):\n",
      "  File \"/home/jimmy/pb-exercises/session5/tx.py\", line 349, in test_hash_to_sign\n",
      "    self.assertEqual(tx.hash_to_sign(0), want)\n",
      "  File \"/home/jimmy/pb-exercises/session5/tx.py\", line 89, in hash_to_sign\n",
      "    result = alt_tx.serialize() + int_to_little_endian(1, 4)\n",
      "  File \"/home/jimmy/pb-exercises/session5/tx.py\", line 58, in serialize\n",
      "    result += tx_in.serialize()\n",
      "  File \"/home/jimmy/pb-exercises/session5/tx.py\", line 215, in serialize\n",
      "    binary = self.script_sig.serialize()\n",
      "AttributeError: 'bytes' object has no attribute 'serialize'\n",
      "\n",
      "======================================================================\n",
      "ERROR: test_sec (tx.TxTest)\n",
      "----------------------------------------------------------------------\n",
      "Traceback (most recent call last):\n",
      "  File \"/home/jimmy/pb-exercises/session5/tx.py\", line 302, in test_sec\n",
      "    self.assertEqual(hexlify(tx.tx_ins[0].sec()), want)\n",
      "AttributeError: 'TxIn' object has no attribute 'sec'\n",
      "\n",
      "======================================================================\n",
      "ERROR: test_serialize (tx.TxTest)\n",
      "----------------------------------------------------------------------\n",
      "Traceback (most recent call last):\n",
      "  File \"/home/jimmy/pb-exercises/session5/tx.py\", line 342, in test_serialize\n",
      "    self.assertEqual(tx.serialize(), raw_tx)\n",
      "  File \"/home/jimmy/pb-exercises/session5/tx.py\", line 62, in serialize\n",
      "    result += tx_out.serialize()\n",
      "  File \"/home/jimmy/pb-exercises/session5/tx.py\", line 244, in serialize\n",
      "    result += bytes([len(binary)]) + self.binary\n",
      "AttributeError: 'TxOut' object has no attribute 'binary'\n",
      "\n",
      "======================================================================\n",
      "ERROR: test_sign_input (tx.TxTest)\n",
      "----------------------------------------------------------------------\n",
      "Traceback (most recent call last):\n",
      "  File \"/home/jimmy/pb-exercises/session5/tx.py\", line 384, in test_sign_input\n",
      "    tx.sign_input(0, private_key)\n",
      "  File \"/home/jimmy/pb-exercises/session5/tx.py\", line 112, in sign_input\n",
      "    z = self.hash_to_sign(input_index)\n",
      "  File \"/home/jimmy/pb-exercises/session5/tx.py\", line 89, in hash_to_sign\n",
      "    result = alt_tx.serialize() + int_to_little_endian(1, 4)\n",
      "  File \"/home/jimmy/pb-exercises/session5/tx.py\", line 58, in serialize\n",
      "    result += tx_in.serialize()\n",
      "  File \"/home/jimmy/pb-exercises/session5/tx.py\", line 215, in serialize\n",
      "    binary = self.script_sig.serialize()\n",
      "AttributeError: 'bytes' object has no attribute 'serialize'\n",
      "\n",
      "======================================================================\n",
      "ERROR: test_signature (tx.TxTest)\n",
      "----------------------------------------------------------------------\n",
      "Traceback (most recent call last):\n",
      "  File \"/home/jimmy/pb-exercises/session5/tx.py\", line 293, in test_signature\n",
      "    der, sighash = tx.tx_ins[0].signature()\n",
      "AttributeError: 'TxIn' object has no attribute 'signature'\n",
      "\n",
      "======================================================================\n",
      "ERROR: test_verify_input1 (tx.TxTest)\n",
      "----------------------------------------------------------------------\n",
      "Traceback (most recent call last):\n",
      "  File \"/home/jimmy/pb-exercises/session5/tx.py\", line 355, in test_verify_input1\n",
      "    self.assertTrue(tx.verify_input(0))\n",
      "  File \"/home/jimmy/pb-exercises/session5/tx.py\", line 95, in verify_input\n",
      "    sigs_required = inp.num_sigs_required()\n",
      "AttributeError: 'TxIn' object has no attribute 'num_sigs_required'\n",
      "\n",
      "======================================================================\n",
      "ERROR: test_verify_input2 (tx.TxTest)\n",
      "----------------------------------------------------------------------\n",
      "Traceback (most recent call last):\n",
      "  File \"/home/jimmy/pb-exercises/session5/tx.py\", line 361, in test_verify_input2\n",
      "    self.assertTrue(tx.verify_input(0))\n",
      "  File \"/home/jimmy/pb-exercises/session5/tx.py\", line 95, in verify_input\n",
      "    sigs_required = inp.num_sigs_required()\n",
      "AttributeError: 'TxIn' object has no attribute 'num_sigs_required'\n",
      "\n",
      "----------------------------------------------------------------------\n",
      "Ran 14 tests in 1.581s\n",
      "\n",
      "FAILED (errors=7)\n"
     ]
    },
    {
     "data": {
      "text/plain": [
       "<unittest.runner.TextTestResult run=14 errors=7 failures=0>"
      ]
     },
     "execution_count": 1,
     "metadata": {},
     "output_type": "execute_result"
    }
   ],
   "source": [
    "from tx import TxTest\n",
    "import unittest\n",
    "\n",
    "suite = unittest.TestLoader().loadTestsFromModule(TxTest())\n",
    "unittest.TextTestRunner().run(suite)\n"
   ]
  }
 ],
 "metadata": {
  "kernelspec": {
   "display_name": "Python 3",
   "language": "python",
   "name": "python3"
  },
  "language_info": {
   "codemirror_mode": {
    "name": "ipython",
    "version": 3
   },
   "file_extension": ".py",
   "mimetype": "text/x-python",
   "name": "python",
   "nbconvert_exporter": "python",
   "pygments_lexer": "ipython3",
   "version": "3.5.2"
  }
 },
 "nbformat": 4,
 "nbformat_minor": 2
}
