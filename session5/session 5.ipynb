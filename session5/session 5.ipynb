{
 "cells": [
  {
   "cell_type": "code",
   "execution_count": 1,
   "metadata": {},
   "outputs": [
    {
     "name": "stdout",
     "output_type": "stream",
     "text": [
      "mrAjisaT4LXL5MzE81sfcDYKU3wqWSvf9q\n"
     ]
    }
   ],
   "source": [
    "from helper import encode_base58_checksum\n",
    "from binascii import unhexlify\n",
    "print(encode_base58_checksum(b'\\x6f'+unhexlify('74d691da1574e6b3c192ecfb52cc8984ee7b6c56')))\n",
    "\n"
   ]
  },
  {
   "cell_type": "code",
   "execution_count": 2,
   "metadata": {},
   "outputs": [
    {
     "name": "stdout",
     "output_type": "stream",
     "text": [
      "0xe71bfa115715d6fd33796948126f40a8cdd39f187e4afb03896795189fe1423c\n"
     ]
    }
   ],
   "source": [
    "from binascii import hexlify, unhexlify\n",
    "from helper import double_sha256\n",
    "\n",
    "z = int(hexlify(double_sha256(unhexlify('0100000001868278ed6ddfb6c1ed3ad5f8181eb0c7a385aa0836f01d5e4789e6bd304d87221a000000475221022626e955ea6ea6d98850c994f9107b036b1334f18ca8830bfff1295d21cfdb702103b287eaf122eea69030a0e9feed096bed8045c8b98bec453e1ffac7fbdbd4bb7152aeffffffff04d3b11400000000001976a914904a49878c0adfc3aa05de7afad2cc15f483a56a88ac7f400900000000001976a914418327e3f3dda4cf5b9089325a4b95abdfa0334088ac722c0c00000000001976a914ba35042cfe9fc66fd35ac2224eebdafd1028ad2788acdc4ace020000000017a91474d691da1574e6b3c192ecfb52cc8984ee7b6c56870000000001000000'))), 16)\n",
    "\n",
    "print(hex(z))"
   ]
  },
  {
   "cell_type": "code",
   "execution_count": 3,
   "metadata": {},
   "outputs": [
    {
     "name": "stdout",
     "output_type": "stream",
     "text": [
      "True\n"
     ]
    }
   ],
   "source": [
    "from binascii import hexlify, unhexlify\n",
    "from ecc import S256Point, Signature\n",
    "from helper import double_sha256\n",
    "\n",
    "z = int(hexlify(double_sha256(unhexlify('0100000001868278ed6ddfb6c1ed3ad5f8181eb0c7a385aa0836f01d5e4789e6bd304d87221a000000475221022626e955ea6ea6d98850c994f9107b036b1334f18ca8830bfff1295d21cfdb702103b287eaf122eea69030a0e9feed096bed8045c8b98bec453e1ffac7fbdbd4bb7152aeffffffff04d3b11400000000001976a914904a49878c0adfc3aa05de7afad2cc15f483a56a88ac7f400900000000001976a914418327e3f3dda4cf5b9089325a4b95abdfa0334088ac722c0c00000000001976a914ba35042cfe9fc66fd35ac2224eebdafd1028ad2788acdc4ace020000000017a91474d691da1574e6b3c192ecfb52cc8984ee7b6c56870000000001000000'))), 16)\n",
    "\n",
    "point = S256Point.from_sec(unhexlify('022626e955ea6ea6d98850c994f9107b036b1334f18ca8830bfff1295d21cfdb70'))\n",
    "r = 0x00dc92655fe37036f47756db8102e0d7d5e28b3beb83a8fef4f5dc0559bddfb94e\n",
    "s = 0x5a36d4e4e6c7fcd16658c50783e00c341609977aed3ad00937bf4ee942a89937\n",
    "sig = Signature(r,s)\n",
    "print(point.verify(z, sig))\n"
   ]
  },
  {
   "cell_type": "code",
   "execution_count": 4,
   "metadata": {},
   "outputs": [
    {
     "name": "stderr",
     "output_type": "stream",
     "text": [
      "..\n",
      "----------------------------------------------------------------------\n",
      "Ran 2 tests in 0.002s\n",
      "\n",
      "OK\n"
     ]
    },
    {
     "data": {
      "text/plain": [
       "<unittest.runner.TextTestResult run=2 errors=0 failures=0>"
      ]
     },
     "execution_count": 4,
     "metadata": {},
     "output_type": "execute_result"
    }
   ],
   "source": [
    "from script import ScriptTest\n",
    "import unittest\n",
    "\n",
    "suite = unittest.TestLoader().loadTestsFromModule(ScriptTest())\n",
    "unittest.TextTestRunner().run(suite)\n"
   ]
  },
  {
   "cell_type": "code",
   "execution_count": 5,
   "metadata": {},
   "outputs": [
    {
     "name": "stderr",
     "output_type": "stream",
     "text": [
      "........E.EEEE\n",
      "======================================================================\n",
      "ERROR: test_sec (tx.TxTest)\n",
      "----------------------------------------------------------------------\n",
      "Traceback (most recent call last):\n",
      "  File \"/home/jimmy/pb-exercises/session5/tx.py\", line 299, in test_sec\n",
      "    self.assertEqual(hexlify(tx.tx_ins[0].sec()), want)\n",
      "AttributeError: 'TxIn' object has no attribute 'sec'\n",
      "\n",
      "======================================================================\n",
      "ERROR: test_sign_input (tx.TxTest)\n",
      "----------------------------------------------------------------------\n",
      "Traceback (most recent call last):\n",
      "  File \"/home/jimmy/pb-exercises/session5/tx.py\", line 381, in test_sign_input\n",
      "    tx.sign_input(0, private_key)\n",
      "  File \"/home/jimmy/pb-exercises/session5/tx.py\", line 123, in sign_input\n",
      "    return self.verify_input(input_index)\n",
      "  File \"/home/jimmy/pb-exercises/session5/tx.py\", line 94, in verify_input\n",
      "    sigs_required = inp.num_sigs_required()\n",
      "AttributeError: 'TxIn' object has no attribute 'num_sigs_required'\n",
      "\n",
      "======================================================================\n",
      "ERROR: test_signature (tx.TxTest)\n",
      "----------------------------------------------------------------------\n",
      "Traceback (most recent call last):\n",
      "  File \"/home/jimmy/pb-exercises/session5/tx.py\", line 290, in test_signature\n",
      "    der, sighash = tx.tx_ins[0].signature()\n",
      "AttributeError: 'TxIn' object has no attribute 'signature'\n",
      "\n",
      "======================================================================\n",
      "ERROR: test_verify_input1 (tx.TxTest)\n",
      "----------------------------------------------------------------------\n",
      "Traceback (most recent call last):\n",
      "  File \"/home/jimmy/pb-exercises/session5/tx.py\", line 352, in test_verify_input1\n",
      "    self.assertTrue(tx.verify_input(0))\n",
      "  File \"/home/jimmy/pb-exercises/session5/tx.py\", line 94, in verify_input\n",
      "    sigs_required = inp.num_sigs_required()\n",
      "AttributeError: 'TxIn' object has no attribute 'num_sigs_required'\n",
      "\n",
      "======================================================================\n",
      "ERROR: test_verify_input2 (tx.TxTest)\n",
      "----------------------------------------------------------------------\n",
      "Traceback (most recent call last):\n",
      "  File \"/home/jimmy/pb-exercises/session5/tx.py\", line 358, in test_verify_input2\n",
      "    self.assertTrue(tx.verify_input(0))\n",
      "  File \"/home/jimmy/pb-exercises/session5/tx.py\", line 94, in verify_input\n",
      "    sigs_required = inp.num_sigs_required()\n",
      "AttributeError: 'TxIn' object has no attribute 'num_sigs_required'\n",
      "\n",
      "----------------------------------------------------------------------\n",
      "Ran 14 tests in 1.755s\n",
      "\n",
      "FAILED (errors=5)\n"
     ]
    },
    {
     "data": {
      "text/plain": [
       "<unittest.runner.TextTestResult run=14 errors=5 failures=0>"
      ]
     },
     "execution_count": 5,
     "metadata": {},
     "output_type": "execute_result"
    }
   ],
   "source": [
    "from tx import TxTest\n",
    "import unittest\n",
    "\n",
    "suite = unittest.TestLoader().loadTestsFromModule(TxTest())\n",
    "unittest.TextTestRunner().run(suite)\n"
   ]
  }
 ],
 "metadata": {
  "kernelspec": {
   "display_name": "Python 3",
   "language": "python",
   "name": "python3"
  },
  "language_info": {
   "codemirror_mode": {
    "name": "ipython",
    "version": 3
   },
   "file_extension": ".py",
   "mimetype": "text/x-python",
   "name": "python",
   "nbconvert_exporter": "python",
   "pygments_lexer": "ipython3",
   "version": "3.5.2"
  }
 },
 "nbformat": 4,
 "nbformat_minor": 2
}
