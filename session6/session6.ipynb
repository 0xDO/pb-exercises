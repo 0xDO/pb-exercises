{
 "cells": [
  {
   "cell_type": "code",
   "execution_count": 6,
   "metadata": {},
   "outputs": [
    {
     "data": {
      "text/plain": [
       "1504147230"
      ]
     },
     "execution_count": 6,
     "metadata": {},
     "output_type": "execute_result"
    }
   ],
   "source": [
    "0x59a7771e"
   ]
  },
  {
   "cell_type": "code",
   "execution_count": 10,
   "metadata": {},
   "outputs": [
    {
     "data": {
      "text/plain": [
       "b'0000000000000000007e9e4c586439b0cdbe13b1370bdd9435d76a644d047523'"
      ]
     },
     "execution_count": 10,
     "metadata": {},
     "output_type": "execute_result"
    }
   ],
   "source": [
    "from binascii import hexlify, unhexlify\n",
    "\n",
    "from helper import double_sha256\n",
    "\n",
    "block_raw = unhexlify('020000208ec39428b17323fa0ddec8e887b4a7c53b8c0a0a220cfd0000000000000000005b0750fce0a889502d40508d39576821155e9c9e3f5c3157f961db38fd8b25be1e77a759e93c0118a4ffd71d')\n",
    "hexlify(double_sha256(block_raw)[::-1])\n",
    "\n",
    "                      \n",
    "            "
   ]
  },
  {
   "cell_type": "code",
   "execution_count": 12,
   "metadata": {},
   "outputs": [
    {
     "data": {
      "text/plain": [
       "888171856257.3206"
      ]
     },
     "execution_count": 12,
     "metadata": {},
     "output_type": "execute_result"
    }
   ],
   "source": [
    "0xffff*2**(8*(0x1d -3)) / 0x13ce9000000000000000000000000000000000000000000"
   ]
  },
  {
   "cell_type": "code",
   "execution_count": 13,
   "metadata": {},
   "outputs": [
    {
     "name": "stdout",
     "output_type": "stream",
     "text": [
      "b'd6ee6bc8864e5c08a5753d3886148fb1193d4cd2773b568d5df91acc8babbcac'\n"
     ]
    }
   ],
   "source": [
    "from binascii import hexlify, unhexlify\n",
    "from helper import double_sha256\n",
    "hashes = ['f54cb69e5dc1bd38ee6901e4ec2007a5030e14bdd60afb4d2f3428c88eea17c1', 'c57c2d678da0a7ee8cfa058f1cf49bfcb00ae21eda966640e312b464414731c1', 'b027077c94668a84a5d0e72ac0020bae3838cb7f9ee3fa4e81d1eecf6eda91f3', '8131a1b8ec3a815b4800b43dff6c6963c75193c4190ec946b93245a9928a233d', 'ae7d63ffcb3ae2bc0681eca0df10dda3ca36dedb9dbf49e33c5fbe33262f0910', '61a14b1bbdcdda8a22e61036839e8b110913832efd4b086948a6a64fd5b3377d', 'fc7051c8b536ac87344c5497595d5d2ffdaba471c73fae15fe9228547ea71881', '77386a46e26f69b3cd435aa4faac932027f58d0b7252e62fb6c9c2489887f6df', '59cbc055ccd26a2c4c4df2770382c7fea135c56d9e75d3f758ac465f74c025b8', '7c2bf5687f19785a61be9f46e031ba041c7f93e2b7e9212799d84ba052395195', '08598eebd94c18b0d59ac921e9ba99e2b8ab7d9fccde7d44f2bd4d5e2e726d2e', 'f0bb99ef46b029dd6f714e4b12a7d796258c48fee57324ebdc0bbc4700753ab1']\n",
    "leafs = [unhexlify(x)[::-1] for x in hashes]\n",
    "level3 = [double_sha256(leafs[i] + leafs[i+1]) for i in range(0, len(leafs), 2)]\n",
    "level2 = [double_sha256(level3[i] + level3[i+1]) for i in range(0, len(level3), 2)]\n",
    "level2.append(level2[-1])\n",
    "level1 = [double_sha256(level2[i] + level2[i+1]) for i in range(0, len(level2), 2)]\n",
    "level0 = [double_sha256(level1[i] + level1[i+1]) for i in range(0, len(level1), 2)]\n",
    "print(hexlify(level0[0][::-1]))\n"
   ]
  },
  {
   "cell_type": "code",
   "execution_count": 15,
   "metadata": {},
   "outputs": [
    {
     "data": {
      "text/plain": [
       "'0x1a06ca16'"
      ]
     },
     "execution_count": 15,
     "metadata": {},
     "output_type": "execute_result"
    }
   ],
   "source": [
    "hex(436652566)"
   ]
  },
  {
   "cell_type": "code",
   "execution_count": null,
   "metadata": {},
   "outputs": [],
   "source": []
  }
 ],
 "metadata": {
  "kernelspec": {
   "display_name": "Python 3",
   "language": "python",
   "name": "python3"
  },
  "language_info": {
   "codemirror_mode": {
    "name": "ipython",
    "version": 3
   },
   "file_extension": ".py",
   "mimetype": "text/x-python",
   "name": "python",
   "nbconvert_exporter": "python",
   "pygments_lexer": "ipython3",
   "version": "3.5.2"
  }
 },
 "nbformat": 4,
 "nbformat_minor": 2
}
