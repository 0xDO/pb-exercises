{
 "cells": [
  {
   "cell_type": "code",
   "execution_count": 1,
   "metadata": {},
   "outputs": [],
   "source": [
    "# import everything and define a test runner function\n",
    "import unittest\n",
    "import importlib\n",
    "\n",
    "import ecc\n",
    "import helper\n",
    "\n",
    "def run_test(test):\n",
    "    suite = unittest.TestSuite()\n",
    "    suite.addTest(test)\n",
    "    unittest.TextTestRunner().run(suite)"
   ]
  },
  {
   "cell_type": "markdown",
   "metadata": {},
   "source": [
    "### Exercise 1\n",
    "\n",
    "#### 1.1. Find out which points are valid on the curve y^2 = x^3 + 7\n",
    "```\n",
    "(192,105), (17,56), (200,119), (1,193), (42,99)\n",
    "```\n",
    "#### 1.2. Write this test using the results above\n",
    "```\n",
    "ecc.py:ECCTest:test_on_curve\n",
    "```"
   ]
  },
  {
   "cell_type": "code",
   "execution_count": 2,
   "metadata": {},
   "outputs": [
    {
     "name": "stdout",
     "output_type": "stream",
     "text": [
      "(192,105) is on the curve\n",
      "(17,56) is on the curve\n",
      "(200,119) is not on the curve\n",
      "(1,193) is on the curve\n",
      "(42,99) is not on the curve\n"
     ]
    }
   ],
   "source": [
    "# Exercise 1.1\n",
    "\n",
    "points = ((192,105), (17,56), (200,119), (1,193), (42,99))\n",
    "\n",
    "for point in points:\n",
    "    if point[1]**2 % 223 == (point[0]**3 + 7) % 223:\n",
    "        print('({},{}) is on the curve'.format(point[0], point[1]))\n",
    "    else:\n",
    "        print('({},{}) is not on the curve'.format(point[0], point[1]))"
   ]
  },
  {
   "cell_type": "code",
   "execution_count": 3,
   "metadata": {},
   "outputs": [
    {
     "name": "stderr",
     "output_type": "stream",
     "text": [
      ".\n",
      "----------------------------------------------------------------------\n",
      "Ran 1 test in 0.001s\n",
      "\n",
      "OK\n"
     ]
    }
   ],
   "source": [
    "# Exercise 1.2\n",
    "\n",
    "importlib.reload(ecc)\n",
    "run_test(ecc.ECCTest('test_on_curve'))"
   ]
  },
  {
   "cell_type": "markdown",
   "metadata": {},
   "source": [
    "### Exercise 2\n",
    "\n",
    "#### 2.1. Find the following point additions on the curve y^2 = x^3 + 7\n",
    "```\n",
    "(192,105) + (17,56), (47,71) + (117,141), (143,98) + (76,66)\n",
    "```\n",
    "\n",
    "#### 2.2. Write this test using the results above\n",
    "```\n",
    "ecc.py:ECCTest:test_add1\n",
    "```"
   ]
  },
  {
   "cell_type": "code",
   "execution_count": 4,
   "metadata": {},
   "outputs": [
    {
     "name": "stdout",
     "output_type": "stream",
     "text": [
      "(170, 142)\n",
      "(60, 139)\n",
      "(47, 71)\n"
     ]
    }
   ],
   "source": [
    "# Exercise 2.1\n",
    "\n",
    "def add_points(i, j):\n",
    "    x1, y1 = i\n",
    "    x2, y2 = j\n",
    "    s=(y2-y1)*pow(x2-x1, 221, 223) % 223\n",
    "    x3=(s**2-x1-x2) % 223\n",
    "    y3=(s*(x1-x3)-y1) % 223\n",
    "    return (x3, y3)\n",
    "\n",
    "print(add_points((192,105), (17,56)))\n",
    "print(add_points((47,71),(117,141)))\n",
    "print(add_points((143,98),(76,66)))"
   ]
  },
  {
   "cell_type": "code",
   "execution_count": 5,
   "metadata": {},
   "outputs": [
    {
     "name": "stderr",
     "output_type": "stream",
     "text": [
      ".\n",
      "----------------------------------------------------------------------\n",
      "Ran 1 test in 0.001s\n",
      "\n",
      "OK\n"
     ]
    }
   ],
   "source": [
    "# Exercise 2.2\n",
    "\n",
    "importlib.reload(ecc)\n",
    "run_test(ecc.ECCTest('test_add1'))"
   ]
  },
  {
   "cell_type": "markdown",
   "metadata": {},
   "source": [
    "### Exercise 3\n",
    "\n",
    "#### 3.1. Find the following scalar multiplications on the curve y^2 = x^3+7\n",
    "```\n",
    "2*(192,105), 2*(143,98), 2*(47,71), 4*(47,71), 8*(47,71), 21*(47,71)\n",
    "```\n",
    "\n",
    "#### Hint: add the point to itself n times"
   ]
  },
  {
   "cell_type": "code",
   "execution_count": 6,
   "metadata": {},
   "outputs": [
    {
     "name": "stdout",
     "output_type": "stream",
     "text": [
      "(49, 71)\n",
      "(64, 168)\n",
      "(36, 111)\n",
      "(194, 51)\n",
      "(116, 55)\n",
      "(None, None)\n"
     ]
    }
   ],
   "source": [
    "# Exercise 3.1\n",
    "\n",
    "def add_points(i, j):\n",
    "    x1, y1 = i\n",
    "    x2, y2 = j\n",
    "    if i == j:\n",
    "        s=(3*x1**2)*pow(2*y1, 221, 223) % 223\n",
    "        x3=(s**2-2*x1) % 223\n",
    "        y3=(s*(x1-x3)-y1) % 223\n",
    "    elif x1 == x2:\n",
    "        return (None, None)\n",
    "    else:\n",
    "        s=(y2-y1)*pow(x2-x1, 221, 223) % 223\n",
    "        x3=(s**2-x1-x2) % 223\n",
    "        y3=(s*(x1-x3)-y1) % 223\n",
    "    return (x3, y3)\n",
    "\n",
    "def multiply_points(n, point):\n",
    "    current = point\n",
    "    for _ in range(n-1):\n",
    "        current = add_points(point, current)\n",
    "    return current\n",
    "            \n",
    "print(multiply_points(2, (192,105)))\n",
    "print(multiply_points(2, (143,98)))\n",
    "print(multiply_points(2, (47,71)))\n",
    "print(multiply_points(4, (47,71)))\n",
    "print(multiply_points(8, (47,71)))\n",
    "print(multiply_points(21, (47,71)))"
   ]
  },
  {
   "cell_type": "markdown",
   "metadata": {},
   "source": [
    "### Exercise 4\n",
    "\n",
    "#### 4.1. Find out what the order of the group generated by (15, 86) is\n",
    "\n",
    "#### Hint: add the point to itself until you get the point at infinity\n",
    "\n",
    "#### 4.2 Write this test using the results above\n",
    "```\n",
    "ecc.py:ECCTest:test_rmul\n",
    "```\n",
    "#### 4.3 Make this test pass\n",
    "```\n",
    "ecc.py:ECCTest:test_rmul\n",
    "```"
   ]
  },
  {
   "cell_type": "code",
   "execution_count": 7,
   "metadata": {},
   "outputs": [
    {
     "name": "stdout",
     "output_type": "stream",
     "text": [
      "7\n"
     ]
    }
   ],
   "source": [
    "# Exercise 4.1\n",
    "\n",
    "def add_points(i, j):\n",
    "    x1, y1 = i\n",
    "    x2, y2 = j\n",
    "    if i == j:\n",
    "        s=(3*x1**2)*pow(2*y1, 221, 223) % 223\n",
    "        x3=(s**2-2*x1) % 223\n",
    "        y3=(s*(x1-x3)-y1) % 223\n",
    "    elif x1 == x2:\n",
    "        return (None, None)\n",
    "    else:\n",
    "        s=(y2-y1)*pow(x2-x1, 221, 223) % 223\n",
    "        x3=(s**2-x1-x2) % 223\n",
    "        y3=(s*(x1-x3)-y1) % 223\n",
    "    return (x3, y3)\n",
    "\n",
    "e = 1\n",
    "current = (15, 86)\n",
    "while current != (None, None):\n",
    "    current = add_points(current, (15, 86))\n",
    "    e += 1\n",
    "print(e)"
   ]
  },
  {
   "cell_type": "code",
   "execution_count": 8,
   "metadata": {},
   "outputs": [
    {
     "name": "stderr",
     "output_type": "stream",
     "text": [
      ".\n",
      "----------------------------------------------------------------------\n",
      "Ran 1 test in 0.005s\n",
      "\n",
      "OK\n"
     ]
    }
   ],
   "source": [
    "# Exercise 4.2 and 4.3\n",
    "\n",
    "importlib.reload(ecc)\n",
    "run_test(ecc.ECCTest('test_rmul'))"
   ]
  },
  {
   "cell_type": "code",
   "execution_count": 9,
   "metadata": {},
   "outputs": [
    {
     "data": {
      "text/plain": [
       "True"
      ]
     },
     "execution_count": 9,
     "metadata": {},
     "output_type": "execute_result"
    }
   ],
   "source": [
    "x = 0x79BE667EF9DCBBAC55A06295CE870B07029BFCDB2DCE28D959F2815B16F81798\n",
    "y = 0x483ADA7726A3C4655DA4FBFC0E1108A8FD17B448A68554199C47D08FFB10D4B8\n",
    "p = 2**256 - 2**32 - 977\n",
    "y**2 % p == (x**3 + 7) % p"
   ]
  },
  {
   "cell_type": "code",
   "execution_count": 10,
   "metadata": {},
   "outputs": [
    {
     "data": {
      "text/plain": [
       "Point(infinity)"
      ]
     },
     "execution_count": 10,
     "metadata": {},
     "output_type": "execute_result"
    }
   ],
   "source": [
    "x = 0x79BE667EF9DCBBAC55A06295CE870B07029BFCDB2DCE28D959F2815B16F81798\n",
    "y = 0x483ADA7726A3C4655DA4FBFC0E1108A8FD17B448A68554199C47D08FFB10D4B8\n",
    "n = 0xFFFFFFFFFFFFFFFFFFFFFFFFFFFFFFFEBAAEDCE6AF48A03BBFD25E8CD0364141\n",
    "from ecc import G\n",
    "n*G"
   ]
  },
  {
   "cell_type": "code",
   "execution_count": 11,
   "metadata": {},
   "outputs": [
    {
     "name": "stdout",
     "output_type": "stream",
     "text": [
      "Point(9680241112d370b56da22eb535745d9e314380e568229e09f7241066003bc471,ddac2d377f03c201ffa0419d6596d10327d6c70313bb492ff495f946285d8f38)\n"
     ]
    }
   ],
   "source": [
    "from ecc import G\n",
    "secret = 999\n",
    "point = secret*G\n",
    "print(point)"
   ]
  },
  {
   "cell_type": "markdown",
   "metadata": {},
   "source": [
    "### Exercise 5\n",
    "\n",
    "#### 5.1. Get the public point where the scalar is the following:\n",
    "```\n",
    "7, 1485, 2**128, 2**256+2**31\n",
    "```\n",
    "\n",
    "#### 5.2. Make this test pass\n",
    "```\n",
    "ecc.py:S256Test:test_pubpoint\n",
    "```"
   ]
  },
  {
   "cell_type": "code",
   "execution_count": 12,
   "metadata": {},
   "outputs": [
    {
     "name": "stdout",
     "output_type": "stream",
     "text": [
      "Point(5cbdf0646e5db4eaa398f365f2ea7a0e3d419b7e0330e39ce92bddedcac4f9bc,6aebca40ba255960a3178d6d861a54dba813d0b813fde7b5a5082628087264da)\n",
      "Point(c982196a7466fbbbb0e27a940b6af926c1a74d5ad07128c82824a11b5398afda,7a91f9eae64438afb9ce6448a1c133db2d8fb9254e4546b6f001637d50901f55)\n",
      "Point(8f68b9d2f63b5f339239c1ad981f162ee88c5678723ea3351b7b444c9ec4c0da,662a9f2dba063986de1d90c2b6be215dbbea2cfe95510bfdf23cbf79501fff82)\n",
      "Point(9577ff57c8234558f293df502ca4f09cbc65a6572c842b39b366f21717945116,10b49c67fa9365ad7b90dab070be339a1daf9052373ec30ffae4f72d5e66d053)\n"
     ]
    }
   ],
   "source": [
    "# Exercise 5.1\n",
    "\n",
    "from ecc import G\n",
    "\n",
    "for s in (7, 1485, 2**128, 2**240+2**31):\n",
    "    print(s*G)"
   ]
  },
  {
   "cell_type": "code",
   "execution_count": 13,
   "metadata": {},
   "outputs": [
    {
     "name": "stderr",
     "output_type": "stream",
     "text": [
      ".\n",
      "----------------------------------------------------------------------\n",
      "Ran 1 test in 0.214s\n",
      "\n",
      "OK\n"
     ]
    }
   ],
   "source": [
    "# Exercise 5.2\n",
    "\n",
    "importlib.reload(ecc)\n",
    "run_test(ecc.S256Test('test_pubpoint'))"
   ]
  },
  {
   "cell_type": "markdown",
   "metadata": {},
   "source": [
    "#### Exercise 6\n",
    "\n",
    "#### 6.1. Find the compressed and uncompressed SEC format for pub keys where the private keys are:\n",
    "```\n",
    "999**3, 123, 42424242\n",
    "```\n",
    "\n",
    "#### 6.2. Make this test pass\n",
    "```\n",
    "ecc.py:S256Test:test_sec\n",
    "```"
   ]
  },
  {
   "cell_type": "code",
   "execution_count": 14,
   "metadata": {},
   "outputs": [
    {
     "name": "stdout",
     "output_type": "stream",
     "text": [
      "049d5ca49670cbe4c3bfa84c96a8c87df086c6ea6a24ba6b809c9de234496808d56fa15cc7f3d38cda98dee2419f415b7513dde1301f8643cd9245aea7f3f911f9\n",
      "039d5ca49670cbe4c3bfa84c96a8c87df086c6ea6a24ba6b809c9de234496808d5\n",
      "04a598a8030da6d86c6bc7f2f5144ea549d28211ea58faa70ebf4c1e665c1fe9b5204b5d6f84822c307e4b4a7140737aec23fc63b65b35f86a10026dbd2d864e6b\n",
      "03a598a8030da6d86c6bc7f2f5144ea549d28211ea58faa70ebf4c1e665c1fe9b5\n",
      "04aee2e7d843f7430097859e2bc603abcc3274ff8169c1a469fee0f20614066f8e21ec53f40efac47ac1c5211b2123527e0e9b57ede790c4da1e72c91fb7da54a3\n",
      "03aee2e7d843f7430097859e2bc603abcc3274ff8169c1a469fee0f20614066f8e\n"
     ]
    }
   ],
   "source": [
    "# Exercise 6.1\n",
    "\n",
    "from ecc import G\n",
    "\n",
    "for s in (999**3,123,42424242):\n",
    "    point = s*G\n",
    "    print('04{:x}{:x}'.format(point.x.num, point.y.num))\n",
    "    if point.y.num % 2 == 1:\n",
    "        print('03{:x}'.format(point.x.num))\n",
    "    else:\n",
    "        print('02{:x}'.format(point.x.num))"
   ]
  },
  {
   "cell_type": "code",
   "execution_count": 15,
   "metadata": {},
   "outputs": [
    {
     "name": "stderr",
     "output_type": "stream",
     "text": [
      ".\n",
      "----------------------------------------------------------------------\n",
      "Ran 1 test in 0.175s\n",
      "\n",
      "OK\n"
     ]
    }
   ],
   "source": [
    "# Exercise 6.2\n",
    "\n",
    "importlib.reload(ecc)\n",
    "run_test(ecc.S256Test('test_sec'))"
   ]
  },
  {
   "cell_type": "markdown",
   "metadata": {},
   "source": [
    "### Exercise 7\n",
    "\n",
    "#### 7.1. Find the mainnet and testnet addresses corresponding to the private keys:\n",
    "```\n",
    "compressed, 888**3\n",
    "uncompressed, 321\n",
    "uncompressed, 4242424242\n",
    "```\n",
    "\n",
    "#### 7.2. Make this test pass\n",
    "```\n",
    "ecc.py:S256Test:test_address\n",
    "```"
   ]
  },
  {
   "cell_type": "code",
   "execution_count": 16,
   "metadata": {},
   "outputs": [
    {
     "name": "stdout",
     "output_type": "stream",
     "text": [
      "b'13vBaGDHtHdj6aKPcCCPdy8nLXhaatu6xk'\n",
      "b'miS8sKJGhK4ysgo1KmAmTtM7CXJHWYzBjk'\n",
      "b'1S6g2xBJSED7Qr9CYZib5f4PYVhHZiVfj'\n",
      "b'mfx3y63A7TfTtXKkv7Y6QzsPFY6QCBCXiP'\n",
      "b'1226JSptcStqn4Yq9aAmNXdwdc2ixuH9nb'\n",
      "b'mgY3bVusRUL6ZB2Ss999CSrGVbdRwVpM8s'\n"
     ]
    }
   ],
   "source": [
    "# Exercise 7.1\n",
    "\n",
    "from binascii import unhexlify\n",
    "\n",
    "from ecc import G\n",
    "from helper import double_sha256, encode_base58, hash160\n",
    "\n",
    "for private_key, compressed in ((8883, True), (321, False), (4242424242, False)):\n",
    "    point = private_key*G\n",
    "    sec = unhexlify(point.sec(compressed=compressed))\n",
    "    h160 = hash160(sec)\n",
    "    raw = b'\\x00' + h160\n",
    "    raw = raw + double_sha256(raw)[:4]\n",
    "    print(encode_base58(raw))\n",
    "    raw = b'\\x6f' + h160\n",
    "    raw = raw + double_sha256(raw)[:4]\n",
    "    print(encode_base58(raw))"
   ]
  },
  {
   "cell_type": "code",
   "execution_count": 17,
   "metadata": {},
   "outputs": [
    {
     "name": "stderr",
     "output_type": "stream",
     "text": [
      ".\n",
      "----------------------------------------------------------------------\n",
      "Ran 1 test in 0.169s\n",
      "\n",
      "OK\n"
     ]
    }
   ],
   "source": [
    "# Exercise 7.2\n",
    "\n",
    "importlib.reload(ecc)\n",
    "run_test(ecc.S256Test('test_address'))"
   ]
  },
  {
   "cell_type": "markdown",
   "metadata": {},
   "source": [
    "### Exercise 8\n",
    "\n",
    "#### 8.1. Create a testnet address using your own secret key\n",
    "#### (use your phone number if you can't think of anything)\n",
    "#### Record this secret key for tomorrow!"
   ]
  },
  {
   "cell_type": "markdown",
   "metadata": {},
   "source": [
    "### Exercise 9\n",
    "\n",
    "#### 9.1. Which sigs are valid?\n",
    "\n",
    "```\n",
    "P = (887387e452b8eacc4acfde10d9aaf7f6d9a0f975aabb10d006e4da568744d06c, \n",
    "     61de6d95231cd89026e286df3b6ae4a894a3378e393e93a0f45b666329a0ae34)\n",
    "z, r, s = ec208baa0fc1c19f708a9ca96fdeff3ac3f230bb4a7ba4aede4942ad003c0f60,\n",
    "          ac8d1c87e51d0d441be8b3dd5b05c8795b48875dffe00b7ffcfac23010d3a395,\n",
    "          68342ceff8935ededd102dd876ffd6ba72d6a427a3edb13d26eb0781cb423c4\n",
    "z, r, s = 7c076ff316692a3d7eb3c3bb0f8b1488cf72e1afcd929e29307032997a838a3d,\n",
    "          eff69ef2b1bd93a66ed5219add4fb51e11a840f404876325a1e8ffe0529a2c,\n",
    "          c7207fee197d27c618aea621406f6bf5ef6fca38681d82b2f06fddbdce6feab6\n",
    "```\n",
    "\n",
    "#### 9.2. Make these tests pass\n",
    "```\n",
    "ecc.py:S256Test:test_verify\n",
    "ecc.py:PrivateKeyTest:test_sign\n",
    "```"
   ]
  },
  {
   "cell_type": "code",
   "execution_count": 18,
   "metadata": {},
   "outputs": [
    {
     "name": "stdout",
     "output_type": "stream",
     "text": [
      "True\n",
      "True\n"
     ]
    }
   ],
   "source": [
    "# Exercise 9.1\n",
    "\n",
    "from ecc import S256Point, N\n",
    "\n",
    "point = S256Point(0x887387e452b8eacc4acfde10d9aaf7f6d9a0f975aabb10d006e4da568744d06c, 0x61de6d95231cd89026e286df3b6ae4a894a3378e393e93a0f45b666329a0ae34)\n",
    "z, r, s = 0xec208baa0fc1c19f708a9ca96fdeff3ac3f230bb4a7ba4aede4942ad003c0f60, 0xac8d1c87e51d0d441be8b3dd5b05c8795b48875dffe00b7ffcfac23010d3a395, 0x68342ceff8935ededd102dd876ffd6ba72d6a427a3edb13d26eb0781cb423c4\n",
    "u = z * pow(s, N-2, N) % N\n",
    "v = r * pow(s, N-2, N) % N\n",
    "print((u*G + v*point).x.num == r)\n",
    "\n",
    "z, r, s = 0x7c076ff316692a3d7eb3c3bb0f8b1488cf72e1afcd929e29307032997a838a3d, 0xeff69ef2b1bd93a66ed5219add4fb51e11a840f404876325a1e8ffe0529a2c, 0xc7207fee197d27c618aea621406f6bf5ef6fca38681d82b2f06fddbdce6feab6\n",
    "u = z * pow(s, N-2, N) % N\n",
    "v = r * pow(s, N-2, N) % N\n",
    "print((u*G + v*point).x.num == r)"
   ]
  },
  {
   "cell_type": "code",
   "execution_count": 19,
   "metadata": {},
   "outputs": [
    {
     "name": "stderr",
     "output_type": "stream",
     "text": [
      ".\n",
      "----------------------------------------------------------------------\n",
      "Ran 1 test in 0.315s\n",
      "\n",
      "OK\n",
      ".\n",
      "----------------------------------------------------------------------\n",
      "Ran 1 test in 0.319s\n",
      "\n",
      "OK\n"
     ]
    }
   ],
   "source": [
    "# Exercise 9.2\n",
    "\n",
    "importlib.reload(ecc)\n",
    "run_test(ecc.S256Test('test_verify'))\n",
    "run_test(ecc.PrivateKeyTest('test_sign'))"
   ]
  }
 ],
 "metadata": {
  "kernelspec": {
   "display_name": "Python 3",
   "language": "python",
   "name": "python3"
  },
  "language_info": {
   "codemirror_mode": {
    "name": "ipython",
    "version": 3
   },
   "file_extension": ".py",
   "mimetype": "text/x-python",
   "name": "python",
   "nbconvert_exporter": "python",
   "pygments_lexer": "ipython3",
   "version": "3.5.2"
  }
 },
 "nbformat": 4,
 "nbformat_minor": 2
}
