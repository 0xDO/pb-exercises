{
 "cells": [
  {
   "cell_type": "code",
   "execution_count": null,
   "metadata": {},
   "outputs": [],
   "source": [
    "# import everything and define a test runner function\n",
    "from importlib import reload\n",
    "from helper import run_test\n",
    "\n",
    "import ecc\n",
    "import helper"
   ]
  },
  {
   "cell_type": "markdown",
   "metadata": {},
   "source": [
    "### Exercise 1\n",
    "\n",
    "Remember the % operator does the actual modulo operation. Also remember that + and - need to be in () because in the order of operations % comes before + and -.\n",
    "\n",
    "#### 1.1. Solve these equations in F_31:\n",
    "\n",
    "```\n",
    "2+15=?\n",
    "17+21=?\n",
    "29-4=?\n",
    "15-30=?\n",
    "```\n",
    "\n",
    "#### 1.2. Make the following tests pass:\n",
    "```\n",
    "ecc.py:FieldElementTest:test_add\n",
    "ecc.py:FieldElementTest:test_sub\n",
    "```"
   ]
  },
  {
   "cell_type": "code",
   "execution_count": null,
   "metadata": {},
   "outputs": [],
   "source": [
    "# Exercise 1.2\n",
    "\n",
    "reload(ecc)\n",
    "run_test(ecc.FieldElementTest('test_add'))\n",
    "run_test(ecc.FieldElementTest('test_sub'))"
   ]
  },
  {
   "cell_type": "markdown",
   "metadata": {},
   "source": [
    "### Exercise 2\n",
    "\n",
    "#### 2.1. Solve these equations in F_31:\n",
    "\n",
    "```\n",
    "24*19=?\n",
    "17^3=?\n",
    "5^5*18=?\n",
    "```\n",
    "\n",
    "#### 2.2. Write a program to calculate `1*k`, `2*k`, `3*k`, ... `30*k` for some k in F_31.  Notice anything about these sets?\n",
    "\n",
    "#### 2.3. Write a program to calculate `k^30` for all k in F_31. Notice anything?\n",
    "\n",
    "#### 2.4. Make the following tests pass:\n",
    "```\n",
    "ecc.py:FieldElementTest:test_mul\n",
    "ecc.py:FieldElementTest:test_pow\n",
    "```"
   ]
  },
  {
   "cell_type": "code",
   "execution_count": null,
   "metadata": {},
   "outputs": [],
   "source": [
    "# Exercise 2.4\n",
    "\n",
    "reload(ecc)\n",
    "run_test(ecc.FieldElementTest('test_mul'))\n",
    "run_test(ecc.FieldElementTest('test_pow'))"
   ]
  },
  {
   "cell_type": "markdown",
   "metadata": {},
   "source": [
    "### Exercise 3\n",
    "\n",
    "#### 3.1. Solve these equations in F_31:\n",
    "\n",
    "```\n",
    "3/24 = ?\n",
    "17^(-3) = ?\n",
    "4^(-4)*11 = ?\n",
    "```\n",
    "\n",
    "#### 3.2. Write a program to calculate `k/1`, `k/2`, `k/3`, ... `k/30` for some k in F_31. Notice anything about these sets?\n",
    "\n",
    "#### 3.3. Make the following tests pass:\n",
    "\n",
    "```\n",
    "ecc.py:FieldElementTest:test_div\n",
    "```"
   ]
  },
  {
   "cell_type": "code",
   "execution_count": null,
   "metadata": {},
   "outputs": [],
   "source": [
    "# Exercise 3.3\n",
    "\n",
    "reload(ecc)\n",
    "run_test(ecc.FieldElementTest('test_div'))"
   ]
  },
  {
   "cell_type": "markdown",
   "metadata": {},
   "source": [
    "### Exercise 4\n",
    "\n",
    "#### 4.1. For the curve y^2 = x^3 + 5x + 7, which of these are on the curve?\n",
    "\n",
    "```\n",
    "(-2,4), (3,7), (18,77)\n",
    "```\n",
    "\n",
    "#### 4.2. Make this test pass\n",
    "```\n",
    "ecc.py:PointTest:test_on_curve\n",
    "```"
   ]
  },
  {
   "cell_type": "code",
   "execution_count": null,
   "metadata": {},
   "outputs": [],
   "source": [
    "# Exercise 4.2\n",
    "\n",
    "reload(ecc)\n",
    "run_test(ecc.PointTest('test_on_curve'))"
   ]
  },
  {
   "cell_type": "markdown",
   "metadata": {},
   "source": [
    "### Exercise 5\n",
    "\n",
    "#### 5.1. Make this test pass\n",
    "```\n",
    "ecc.py:PointTest:test_add0\n",
    "```"
   ]
  },
  {
   "cell_type": "code",
   "execution_count": null,
   "metadata": {},
   "outputs": [],
   "source": [
    "# Exercise 5.1\n",
    "\n",
    "reload(ecc)\n",
    "run_test(ecc.PointTest('test_add0'))"
   ]
  },
  {
   "cell_type": "markdown",
   "metadata": {},
   "source": [
    "### Exercise 6\n",
    "\n",
    "#### 6.1. For the curve y^2 = x^3 + 5x + 7, what is (2,5) + (-1,-1)?\n",
    "\n",
    "#### 6.2. Make this test pass\n",
    "```\n",
    "ecc.py:PointTest:test_add1\n",
    "```"
   ]
  },
  {
   "cell_type": "code",
   "execution_count": null,
   "metadata": {},
   "outputs": [],
   "source": [
    "# Exercise 6.2\n",
    "\n",
    "reload(ecc)\n",
    "run_test(ecc.PointTest('test_add1'))"
   ]
  },
  {
   "cell_type": "markdown",
   "metadata": {},
   "source": [
    "### Exercise 7\n",
    "\n",
    "#### 7.1. For the curve y^2 = x^3 + 5x + 7, what is (-1,1) + (-1,1)?\n",
    "\n",
    "#### 7.2. Make this test pass\n",
    "```\n",
    "ecc.py:PointTest:test_add2\n",
    "```"
   ]
  },
  {
   "cell_type": "code",
   "execution_count": null,
   "metadata": {},
   "outputs": [],
   "source": [
    "# Exercise 7.2\n",
    "\n",
    "reload(ecc)\n",
    "run_test(ecc.PointTest('test_add2'))"
   ]
  }
 ],
 "metadata": {
  "kernelspec": {
   "display_name": "Python 3",
   "language": "python",
   "name": "python3"
  },
  "language_info": {
   "codemirror_mode": {
    "name": "ipython",
    "version": 3
   },
   "file_extension": ".py",
   "mimetype": "text/x-python",
   "name": "python",
   "nbconvert_exporter": "python",
   "pygments_lexer": "ipython3",
   "version": "3.5.2"
  }
 },
 "nbformat": 4,
 "nbformat_minor": 2
}
